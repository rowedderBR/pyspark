{
 "cells": [
  {
   "cell_type": "code",
   "execution_count": null,
   "id": "9d990e68",
   "metadata": {},
   "outputs": [],
   "source": [
    "from pyspark.sql import SparkSession"
   ]
  },
  {
   "cell_type": "markdown",
   "id": "1b06ed0d",
   "metadata": {},
   "source": [
    "**Criando uma aplicação Spark**"
   ]
  },
  {
   "cell_type": "code",
   "execution_count": null,
   "id": "1cd9b2fe",
   "metadata": {},
   "outputs": [],
   "source": [
    "spark = SparkSession.builder.master(\"local\").appName(\"SparkByExamples.com\").getOrCreate()"
   ]
  },
  {
   "cell_type": "code",
   "execution_count": null,
   "id": "4ca1e8c0",
   "metadata": {},
   "outputs": [],
   "source": [
    "arqschema = \"id INT, nome STRING, status STRING, cidade STRING, vendas INT, data STRING\"\n",
    "despachantes = spark.read.csv(\"/home/rowedder/download/despachantes.csv\", header=False, schema = arqschema)"
   ]
  },
  {
   "cell_type": "code",
   "execution_count": null,
   "id": "5062f03d",
   "metadata": {},
   "outputs": [],
   "source": [
    "despachantes.show()"
   ]
  },
  {
   "cell_type": "markdown",
   "id": "eb1f5d72",
   "metadata": {},
   "source": [
    "**EXPORTANDO DADOS**"
   ]
  },
  {
   "cell_type": "markdown",
   "id": "8169f328",
   "metadata": {},
   "source": [
    "**Transformando em formato parquet**"
   ]
  },
  {
   "cell_type": "code",
   "execution_count": null,
   "id": "a47f9a3e",
   "metadata": {},
   "outputs": [],
   "source": [
    "despachantes.write.format(\"parquet\").save(\"/home/rowedder/dfimportparquet\")"
   ]
  },
  {
   "cell_type": "markdown",
   "id": "5e0a4e85",
   "metadata": {},
   "source": [
    "**Transformado em formato csv**"
   ]
  },
  {
   "cell_type": "code",
   "execution_count": null,
   "id": "d7686d4c",
   "metadata": {},
   "outputs": [],
   "source": [
    "despachantes.write.format(\"csv\").save(\"/home/rowedder/dfimportcsv\")"
   ]
  },
  {
   "cell_type": "markdown",
   "id": "669b2fc6",
   "metadata": {},
   "source": [
    "**Transformando em formato json**"
   ]
  },
  {
   "cell_type": "code",
   "execution_count": null,
   "id": "1721ca58",
   "metadata": {},
   "outputs": [],
   "source": [
    "despachantes.write.format(\"json\").save(\"/home/rowedder/dfimportjson\")"
   ]
  },
  {
   "cell_type": "markdown",
   "id": "db3c9512",
   "metadata": {},
   "source": [
    "**Transformando em formato orc**"
   ]
  },
  {
   "cell_type": "code",
   "execution_count": null,
   "id": "4db265d3",
   "metadata": {},
   "outputs": [],
   "source": [
    "despachantes.write.format(\"orc\").save(\"/home/rowedder/dfimportjorc\")"
   ]
  },
  {
   "cell_type": "markdown",
   "id": "0b77fb77",
   "metadata": {},
   "source": [
    "**IMPORTANDO DADOS**"
   ]
  },
  {
   "cell_type": "markdown",
   "id": "14063b0a",
   "metadata": {},
   "source": [
    "**Parquet**"
   ]
  },
  {
   "cell_type": "code",
   "execution_count": null,
   "id": "d7b9b690",
   "metadata": {},
   "outputs": [],
   "source": [
    "par = spark.read.format(\"parquet\").load(\"/home/rowedder/dfimportparquet/despachantes.parquet\")"
   ]
  },
  {
   "cell_type": "code",
   "execution_count": null,
   "id": "f54a5687",
   "metadata": {},
   "outputs": [],
   "source": [
    "par.show()"
   ]
  },
  {
   "cell_type": "code",
   "execution_count": null,
   "id": "4ee19ad2",
   "metadata": {},
   "outputs": [],
   "source": [
    "par.schema"
   ]
  },
  {
   "cell_type": "markdown",
   "id": "0ed6458d",
   "metadata": {},
   "source": [
    "**Json**"
   ]
  },
  {
   "cell_type": "code",
   "execution_count": null,
   "id": "0faa6a04",
   "metadata": {},
   "outputs": [],
   "source": [
    "# O formato json muda as colunas de lugar e também muda o campo vendas de integerType para longType\n",
    "js = spark.read.format(\"json\").load(\"/home/rowedder/dfimportjson/despachantes.json\")"
   ]
  },
  {
   "cell_type": "code",
   "execution_count": null,
   "id": "80223c07",
   "metadata": {},
   "outputs": [],
   "source": [
    "js.show()"
   ]
  },
  {
   "cell_type": "markdown",
   "id": "a102fea7",
   "metadata": {},
   "source": [
    "js.schema"
   ]
  },
  {
   "cell_type": "markdown",
   "id": "10ae07f0",
   "metadata": {},
   "source": [
    "**Orc**"
   ]
  },
  {
   "cell_type": "code",
   "execution_count": null,
   "id": "15c298e0",
   "metadata": {},
   "outputs": [],
   "source": [
    "orc = spark.read.format(\"orc\").load(\"/home/rowedder/dfimportorc/despachantes.orc\")"
   ]
  },
  {
   "cell_type": "code",
   "execution_count": null,
   "id": "e31a9800",
   "metadata": {},
   "outputs": [],
   "source": [
    "orc.show()"
   ]
  },
  {
   "cell_type": "code",
   "execution_count": null,
   "id": "93cb5d30",
   "metadata": {},
   "outputs": [],
   "source": [
    "orc.schema"
   ]
  },
  {
   "cell_type": "markdown",
   "id": "44cadf32",
   "metadata": {},
   "source": [
    "**Csv**"
   ]
  },
  {
   "cell_type": "code",
   "execution_count": null,
   "id": "9fc9548a",
   "metadata": {},
   "outputs": [],
   "source": [
    "# Trás todos os arquivos em formato string e não trás os nomes da colunas.\n",
    "cs = spark.read.format(\"csv\").load(\"/home/rowedder/dfimportcsv/despachantes.csv\")"
   ]
  },
  {
   "cell_type": "code",
   "execution_count": null,
   "id": "e04d5bd6",
   "metadata": {},
   "outputs": [],
   "source": [
    "cs.show()"
   ]
  },
  {
   "cell_type": "code",
   "execution_count": null,
   "id": "a5bc0de4",
   "metadata": {},
   "outputs": [],
   "source": [
    "cs.schema"
   ]
  },
  {
   "cell_type": "markdown",
   "id": "c3703a26",
   "metadata": {},
   "source": [
    "**Criando um schema para o arquivo csv**"
   ]
  },
  {
   "cell_type": "code",
   "execution_count": null,
   "id": "ce041e97",
   "metadata": {},
   "outputs": [],
   "source": [
    "# Crei um schema para resolver o problema do import sem schema.\n",
    "arqschema = \"id INT, nome STRING, status STRING, cidade STRING, vendas INT, data DATE\"\n",
    "cs2 = spark.read.format(\"csv\").load(\"/home/rowedder/dfimportcsv/despachantes.csv\", schema=arqschema)"
   ]
  },
  {
   "cell_type": "code",
   "execution_count": null,
   "id": "a47865d5",
   "metadata": {},
   "outputs": [],
   "source": [
    "cs2.show()"
   ]
  },
  {
   "cell_type": "code",
   "execution_count": null,
   "id": "1217dbbe",
   "metadata": {},
   "outputs": [],
   "source": []
  }
 ],
 "metadata": {
  "kernelspec": {
   "display_name": "Python 3 (ipykernel)",
   "language": "python",
   "name": "python3"
  },
  "language_info": {
   "codemirror_mode": {
    "name": "ipython",
    "version": 3
   },
   "file_extension": ".py",
   "mimetype": "text/x-python",
   "name": "python",
   "nbconvert_exporter": "python",
   "pygments_lexer": "ipython3",
   "version": "3.8.10"
  }
 },
 "nbformat": 4,
 "nbformat_minor": 5
}
