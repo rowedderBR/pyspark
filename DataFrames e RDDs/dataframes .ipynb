{
 "cells": [
  {
   "cell_type": "code",
   "execution_count": 1,
   "id": "af2f9797",
   "metadata": {},
   "outputs": [],
   "source": [
    "from pyspark.sql import SparkSession"
   ]
  },
  {
   "cell_type": "markdown",
   "id": "3bd4e766",
   "metadata": {},
   "source": [
    "**Criando uma aplicação Spark**"
   ]
  },
  {
   "cell_type": "code",
   "execution_count": 2,
   "id": "341eb660",
   "metadata": {},
   "outputs": [
    {
     "name": "stderr",
     "output_type": "stream",
     "text": [
      "22/05/09 01:14:07 WARN Utils: Your hostname, rowedder-HP-240-G4-Notebook-PC resolves to a loopback address: 127.0.1.1; using 192.168.1.102 instead (on interface enp1s0)\n",
      "22/05/09 01:14:07 WARN Utils: Set SPARK_LOCAL_IP if you need to bind to another address\n",
      "WARNING: An illegal reflective access operation has occurred\n",
      "WARNING: Illegal reflective access by org.apache.spark.unsafe.Platform (file:/opt/spark/jars/spark-unsafe_2.12-3.2.1.jar) to constructor java.nio.DirectByteBuffer(long,int)\n",
      "WARNING: Please consider reporting this to the maintainers of org.apache.spark.unsafe.Platform\n",
      "WARNING: Use --illegal-access=warn to enable warnings of further illegal reflective access operations\n",
      "WARNING: All illegal access operations will be denied in a future release\n",
      "Using Spark's default log4j profile: org/apache/spark/log4j-defaults.properties\n",
      "Setting default log level to \"WARN\".\n",
      "To adjust logging level use sc.setLogLevel(newLevel). For SparkR, use setLogLevel(newLevel).\n",
      "22/05/09 01:14:10 WARN NativeCodeLoader: Unable to load native-hadoop library for your platform... using builtin-java classes where applicable\n"
     ]
    }
   ],
   "source": [
    "spark = SparkSession.builder.master(\"local\").appName(\"SparkByExamples.com\").getOrCreate()"
   ]
  },
  {
   "cell_type": "markdown",
   "id": "964da083",
   "metadata": {},
   "source": [
    "**Criando um dataframe sem definir um schema**"
   ]
  },
  {
   "cell_type": "code",
   "execution_count": 3,
   "id": "278b3652",
   "metadata": {},
   "outputs": [],
   "source": [
    "df1 = spark.createDataFrame([(\"Pedro\", 10),(\"Maria\", 20),(\"José\", 40)])"
   ]
  },
  {
   "cell_type": "code",
   "execution_count": 4,
   "id": "4817cb76",
   "metadata": {},
   "outputs": [
    {
     "name": "stderr",
     "output_type": "stream",
     "text": [
      "\r",
      "[Stage 0:>                                                          (0 + 1) / 1]\r"
     ]
    },
    {
     "name": "stdout",
     "output_type": "stream",
     "text": [
      "+-----+---+\n",
      "|   _1| _2|\n",
      "+-----+---+\n",
      "|Pedro| 10|\n",
      "|Maria| 20|\n",
      "| José| 40|\n",
      "+-----+---+\n",
      "\n"
     ]
    },
    {
     "name": "stderr",
     "output_type": "stream",
     "text": [
      "\r",
      "                                                                                \r"
     ]
    }
   ],
   "source": [
    "df1.show()"
   ]
  },
  {
   "cell_type": "markdown",
   "id": "b70dbda7",
   "metadata": {},
   "source": [
    "**Criando um dataframe com schema**"
   ]
  },
  {
   "cell_type": "code",
   "execution_count": 5,
   "id": "b521c921",
   "metadata": {},
   "outputs": [],
   "source": [
    "schema = \"id INT, nome STRING\"\n",
    "dados = [[1, \"Pedro\"], [2, \"Maria\"]]\n",
    "df2 = spark.createDataFrame(dados, schema)"
   ]
  },
  {
   "cell_type": "code",
   "execution_count": 6,
   "id": "f0f4a0e8",
   "metadata": {},
   "outputs": [
    {
     "name": "stdout",
     "output_type": "stream",
     "text": [
      "+---+-----+\n",
      "| id| nome|\n",
      "+---+-----+\n",
      "|  1|Pedro|\n",
      "|  2|Maria|\n",
      "+---+-----+\n",
      "\n"
     ]
    }
   ],
   "source": [
    "df2.show()"
   ]
  },
  {
   "cell_type": "markdown",
   "id": "618beb95",
   "metadata": {},
   "source": [
    "**Agregando dados**"
   ]
  },
  {
   "cell_type": "code",
   "execution_count": 7,
   "id": "407f47df",
   "metadata": {},
   "outputs": [],
   "source": [
    "from pyspark.sql.functions import sum  #função de soma (agregação)"
   ]
  },
  {
   "cell_type": "code",
   "execution_count": 8,
   "id": "450e6df9",
   "metadata": {},
   "outputs": [],
   "source": [
    "schema2 = \"produtos STRING, vendas INT\"\n",
    "vendas = [[\"Caneta\", 10], [\"Lápis\", 15], [\"Caneta\", 40]]\n",
    "df3 = spark.createDataFrame(vendas, schema2)"
   ]
  },
  {
   "cell_type": "code",
   "execution_count": 9,
   "id": "0e234a5f",
   "metadata": {},
   "outputs": [
    {
     "name": "stdout",
     "output_type": "stream",
     "text": [
      "+--------+------+\n",
      "|produtos|vendas|\n",
      "+--------+------+\n",
      "|  Caneta|    10|\n",
      "|   Lápis|    15|\n",
      "|  Caneta|    40|\n",
      "+--------+------+\n",
      "\n"
     ]
    }
   ],
   "source": [
    "df3.show()"
   ]
  },
  {
   "cell_type": "code",
   "execution_count": 10,
   "id": "4bc8282f",
   "metadata": {},
   "outputs": [
    {
     "name": "stderr",
     "output_type": "stream",
     "text": [
      "\r",
      "[Stage 3:>                                                          (0 + 1) / 1]\r"
     ]
    },
    {
     "name": "stdout",
     "output_type": "stream",
     "text": [
      "+--------+-----------+\n",
      "|produtos|sum(vendas)|\n",
      "+--------+-----------+\n",
      "|  Caneta|         50|\n",
      "|   Lápis|         15|\n",
      "+--------+-----------+\n",
      "\n"
     ]
    },
    {
     "name": "stderr",
     "output_type": "stream",
     "text": [
      "\r",
      "                                                                                \r"
     ]
    }
   ],
   "source": [
    "# Colocando o show na mesma linha do script de agregação.\n",
    "agrupado = df3.groupBy(\"produtos\").agg(sum(\"vendas\")).show()"
   ]
  },
  {
   "cell_type": "markdown",
   "id": "3bd62b4d",
   "metadata": {},
   "source": [
    "**Visualizando apenas as colunas que quero**"
   ]
  },
  {
   "cell_type": "code",
   "execution_count": 11,
   "id": "8cfa8e9b",
   "metadata": {},
   "outputs": [
    {
     "name": "stdout",
     "output_type": "stream",
     "text": [
      "+--------+------+\n",
      "|produtos|vendas|\n",
      "+--------+------+\n",
      "|  Caneta|    10|\n",
      "|   Lápis|    15|\n",
      "|  Caneta|    40|\n",
      "+--------+------+\n",
      "\n"
     ]
    }
   ],
   "source": [
    "#O dataframe inteiro\n",
    "df3.select(\"produtos\",\"vendas\").show()"
   ]
  },
  {
   "cell_type": "code",
   "execution_count": 12,
   "id": "b4e03f4c",
   "metadata": {},
   "outputs": [
    {
     "name": "stdout",
     "output_type": "stream",
     "text": [
      "+------+\n",
      "|vendas|\n",
      "+------+\n",
      "|    10|\n",
      "|    15|\n",
      "|    40|\n",
      "+------+\n",
      "\n"
     ]
    }
   ],
   "source": [
    "# Apenas a coluna vendas\n",
    "df3.select(\"vendas\").show()"
   ]
  },
  {
   "cell_type": "code",
   "execution_count": 13,
   "id": "ccf9ec8e",
   "metadata": {},
   "outputs": [
    {
     "name": "stdout",
     "output_type": "stream",
     "text": [
      "+------+--------+\n",
      "|vendas|produtos|\n",
      "+------+--------+\n",
      "|    10|  Caneta|\n",
      "|    15|   Lápis|\n",
      "|    40|  Caneta|\n",
      "+------+--------+\n",
      "\n"
     ]
    }
   ],
   "source": [
    "# Invertendo a ordem \n",
    "df3.select(\"vendas\",\"produtos\").show()"
   ]
  },
  {
   "cell_type": "markdown",
   "id": "6c42354b",
   "metadata": {},
   "source": [
    "**Criando uma expressão (qualquer cálculo matemático)**"
   ]
  },
  {
   "cell_type": "code",
   "execution_count": 14,
   "id": "1a1122dd",
   "metadata": {},
   "outputs": [],
   "source": [
    "from pyspark.sql.functions import expr"
   ]
  },
  {
   "cell_type": "code",
   "execution_count": 15,
   "id": "3dc6ec9e",
   "metadata": {},
   "outputs": [
    {
     "name": "stdout",
     "output_type": "stream",
     "text": [
      "+--------+------+--------------+\n",
      "|produtos|vendas|(vendas * 0.2)|\n",
      "+--------+------+--------------+\n",
      "|  Caneta|    10|           2.0|\n",
      "|   Lápis|    15|           3.0|\n",
      "|  Caneta|    40|           8.0|\n",
      "+--------+------+--------------+\n",
      "\n"
     ]
    }
   ],
   "source": [
    "# O quantidade de vendas vezes 0.2 \n",
    "df3.select(\"produtos\", \"vendas\", expr(\"vendas * 0.2\")).show()"
   ]
  },
  {
   "cell_type": "markdown",
   "id": "6ef41a2c",
   "metadata": {},
   "source": [
    "**Visualizando o schema do dataframe**"
   ]
  },
  {
   "cell_type": "code",
   "execution_count": 16,
   "id": "1df98fdf",
   "metadata": {},
   "outputs": [
    {
     "data": {
      "text/plain": [
       "StructType(List(StructField(produtos,StringType,true),StructField(vendas,IntegerType,true)))"
      ]
     },
     "execution_count": 16,
     "metadata": {},
     "output_type": "execute_result"
    }
   ],
   "source": [
    "df3.schema"
   ]
  },
  {
   "cell_type": "markdown",
   "id": "2ff778a9",
   "metadata": {},
   "source": [
    "**Visualizando as colunas do dataframe**"
   ]
  },
  {
   "cell_type": "code",
   "execution_count": 17,
   "id": "6fe1a3da",
   "metadata": {},
   "outputs": [
    {
     "data": {
      "text/plain": [
       "['produtos', 'vendas']"
      ]
     },
     "execution_count": 17,
     "metadata": {},
     "output_type": "execute_result"
    }
   ],
   "source": [
    "df3.columns"
   ]
  },
  {
   "cell_type": "markdown",
   "id": "2e43578a",
   "metadata": {},
   "source": [
    "**Importando um arquivo CSV e definindo um schema para esse arquivo**"
   ]
  },
  {
   "cell_type": "code",
   "execution_count": 18,
   "id": "ff1c6a2e",
   "metadata": {},
   "outputs": [],
   "source": [
    "from pyspark.sql.types import *"
   ]
  },
  {
   "cell_type": "code",
   "execution_count": 19,
   "id": "dd07ad27",
   "metadata": {},
   "outputs": [],
   "source": [
    "arqschema = \"id INT, nome STRING, status STRING, cidade STRING, vendas INT, data STRING\"\n",
    "despachantes = spark.read.csv(\"/home/rowedder/download/despachantes.csv\", header=False, schema = arqschema)"
   ]
  },
  {
   "cell_type": "code",
   "execution_count": 20,
   "id": "32f173cb",
   "metadata": {},
   "outputs": [
    {
     "name": "stdout",
     "output_type": "stream",
     "text": [
      "+---+-------------------+------+-------------+------+----------+\n",
      "| id|               nome|status|       cidade|vendas|      data|\n",
      "+---+-------------------+------+-------------+------+----------+\n",
      "|  1|   Carminda Pestana| Ativo|  Santa Maria|    23|2020-08-11|\n",
      "|  2|    Deolinda Vilela| Ativo|Novo Hamburgo|    34|2020-03-05|\n",
      "|  3|   Emídio Dornelles| Ativo| Porto Alegre|    34|2020-02-05|\n",
      "|  4|Felisbela Dornelles| Ativo| Porto Alegre|    36|2020-02-05|\n",
      "|  5|     Graça Ornellas| Ativo| Porto Alegre|    12|2020-02-05|\n",
      "|  6|   Matilde Rebouças| Ativo| Porto Alegre|    22|2019-01-05|\n",
      "|  7|    Noêmia   Orriça| Ativo|  Santa Maria|    45|2019-10-05|\n",
      "|  8|      Roque Vásquez| Ativo| Porto Alegre|    65|2020-03-05|\n",
      "|  9|      Uriel Queiroz| Ativo| Porto Alegre|    54|2018-05-05|\n",
      "| 10|   Viviana Sequeira| Ativo| Porto Alegre|     0|2020-09-05|\n",
      "+---+-------------------+------+-------------+------+----------+\n",
      "\n"
     ]
    }
   ],
   "source": [
    "despachantes.show()"
   ]
  },
  {
   "cell_type": "code",
   "execution_count": 21,
   "id": "3f6dd330",
   "metadata": {},
   "outputs": [],
   "source": [
    "# Abrindo o CSV com load (um método genérico) no lugar do spark.read.csv\n",
    "# Colocando o sep=\",\" --> Para conseguir abrir o formato que o arquivo foi criado (, ou ;)\n",
    "# inferSchema=\"True\" --> Ele infere o schema automaticamente.\n",
    "desp_autoschema = spark.read.load(\"/home/rowedder/download/despachantes.csv\", header=False, format=\"csv\", sep=\",\", inferSchema=\"True\")"
   ]
  },
  {
   "cell_type": "code",
   "execution_count": 22,
   "id": "3bb4af86",
   "metadata": {},
   "outputs": [
    {
     "name": "stdout",
     "output_type": "stream",
     "text": [
      "+---+-------------------+-----+-------------+---+----------+\n",
      "|_c0|                _c1|  _c2|          _c3|_c4|       _c5|\n",
      "+---+-------------------+-----+-------------+---+----------+\n",
      "|  1|   Carminda Pestana|Ativo|  Santa Maria| 23|2020-08-11|\n",
      "|  2|    Deolinda Vilela|Ativo|Novo Hamburgo| 34|2020-03-05|\n",
      "|  3|   Emídio Dornelles|Ativo| Porto Alegre| 34|2020-02-05|\n",
      "|  4|Felisbela Dornelles|Ativo| Porto Alegre| 36|2020-02-05|\n",
      "|  5|     Graça Ornellas|Ativo| Porto Alegre| 12|2020-02-05|\n",
      "|  6|   Matilde Rebouças|Ativo| Porto Alegre| 22|2019-01-05|\n",
      "|  7|    Noêmia   Orriça|Ativo|  Santa Maria| 45|2019-10-05|\n",
      "|  8|      Roque Vásquez|Ativo| Porto Alegre| 65|2020-03-05|\n",
      "|  9|      Uriel Queiroz|Ativo| Porto Alegre| 54|2018-05-05|\n",
      "| 10|   Viviana Sequeira|Ativo| Porto Alegre|  0|2020-09-05|\n",
      "+---+-------------------+-----+-------------+---+----------+\n",
      "\n"
     ]
    }
   ],
   "source": [
    "desp_autoschema.show()"
   ]
  },
  {
   "cell_type": "markdown",
   "id": "5b7ccd25",
   "metadata": {},
   "source": [
    "**Comparando os tipos de dados dos dataframes despachantes e desp_autoschema da coluna data**"
   ]
  },
  {
   "cell_type": "code",
   "execution_count": 23,
   "id": "8c301320",
   "metadata": {},
   "outputs": [
    {
     "data": {
      "text/plain": [
       "StructType(List(StructField(id,IntegerType,true),StructField(nome,StringType,true),StructField(status,StringType,true),StructField(cidade,StringType,true),StructField(vendas,IntegerType,true),StructField(data,StringType,true)))"
      ]
     },
     "execution_count": 23,
     "metadata": {},
     "output_type": "execute_result"
    }
   ],
   "source": [
    "despachantes.schema"
   ]
  },
  {
   "cell_type": "code",
   "execution_count": 24,
   "id": "66ac690c",
   "metadata": {},
   "outputs": [
    {
     "data": {
      "text/plain": [
       "StructType(List(StructField(_c0,IntegerType,true),StructField(_c1,StringType,true),StructField(_c2,StringType,true),StructField(_c3,StringType,true),StructField(_c4,IntegerType,true),StructField(_c5,StringType,true)))"
      ]
     },
     "execution_count": 24,
     "metadata": {},
     "output_type": "execute_result"
    }
   ],
   "source": [
    "desp_autoschema.schema"
   ]
  },
  {
   "cell_type": "markdown",
   "id": "c3c9e7de",
   "metadata": {},
   "source": [
    "**Filtrando dados com WHERE**"
   ]
  },
  {
   "cell_type": "code",
   "execution_count": 25,
   "id": "65096783",
   "metadata": {},
   "outputs": [],
   "source": [
    "from pyspark.sql import functions as func"
   ]
  },
  {
   "cell_type": "code",
   "execution_count": 26,
   "id": "5730e5de",
   "metadata": {},
   "outputs": [
    {
     "name": "stdout",
     "output_type": "stream",
     "text": [
      "+---+-------------------+------+\n",
      "| id|               nome|vendas|\n",
      "+---+-------------------+------+\n",
      "|  1|   Carminda Pestana|    23|\n",
      "|  2|    Deolinda Vilela|    34|\n",
      "|  3|   Emídio Dornelles|    34|\n",
      "|  4|Felisbela Dornelles|    36|\n",
      "|  6|   Matilde Rebouças|    22|\n",
      "|  7|    Noêmia   Orriça|    45|\n",
      "|  8|      Roque Vásquez|    65|\n",
      "|  9|      Uriel Queiroz|    54|\n",
      "+---+-------------------+------+\n",
      "\n"
     ]
    }
   ],
   "source": [
    "# Filtrando vendas maior que 20.\n",
    "despachantes.select(\"id\",\"nome\",\"vendas\").where(func.col(\"vendas\") > 20).show()"
   ]
  },
  {
   "cell_type": "code",
   "execution_count": 27,
   "id": "679cfe77",
   "metadata": {},
   "outputs": [
    {
     "name": "stdout",
     "output_type": "stream",
     "text": [
      "+---+-------------------+------+\n",
      "| id|               nome|vendas|\n",
      "+---+-------------------+------+\n",
      "|  1|   Carminda Pestana|    23|\n",
      "|  2|    Deolinda Vilela|    34|\n",
      "|  3|   Emídio Dornelles|    34|\n",
      "|  4|Felisbela Dornelles|    36|\n",
      "|  6|   Matilde Rebouças|    22|\n",
      "+---+-------------------+------+\n",
      "\n"
     ]
    }
   ],
   "source": [
    "# Filtrando vendas maiores que 20 e menores do que 40.\n",
    "despachantes.select(\"id\",\"nome\",\"vendas\").where((func.col(\"vendas\") > 20)&(func.col(\"vendas\")<40)).show()"
   ]
  },
  {
   "cell_type": "markdown",
   "id": "91dfd5d0",
   "metadata": {},
   "source": [
    "**Renomeando colunas de um dataframe**"
   ]
  },
  {
   "cell_type": "code",
   "execution_count": 28,
   "id": "ebb8f431",
   "metadata": {},
   "outputs": [
    {
     "data": {
      "text/plain": [
       "['id', 'nomes', 'status', 'cidade', 'vendas', 'data']"
      ]
     },
     "execution_count": 28,
     "metadata": {},
     "output_type": "execute_result"
    }
   ],
   "source": [
    "novodf = despachantes.withColumnRenamed(\"nome\", \"nomes\")\n",
    "novodf.columns"
   ]
  },
  {
   "cell_type": "code",
   "execution_count": 29,
   "id": "ac92a32d",
   "metadata": {},
   "outputs": [
    {
     "name": "stdout",
     "output_type": "stream",
     "text": [
      "+---+-------------------+------+-------------+------+----------+\n",
      "| id|              nomes|status|       cidade|vendas|      data|\n",
      "+---+-------------------+------+-------------+------+----------+\n",
      "|  1|   Carminda Pestana| Ativo|  Santa Maria|    23|2020-08-11|\n",
      "|  2|    Deolinda Vilela| Ativo|Novo Hamburgo|    34|2020-03-05|\n",
      "|  3|   Emídio Dornelles| Ativo| Porto Alegre|    34|2020-02-05|\n",
      "|  4|Felisbela Dornelles| Ativo| Porto Alegre|    36|2020-02-05|\n",
      "|  5|     Graça Ornellas| Ativo| Porto Alegre|    12|2020-02-05|\n",
      "|  6|   Matilde Rebouças| Ativo| Porto Alegre|    22|2019-01-05|\n",
      "|  7|    Noêmia   Orriça| Ativo|  Santa Maria|    45|2019-10-05|\n",
      "|  8|      Roque Vásquez| Ativo| Porto Alegre|    65|2020-03-05|\n",
      "|  9|      Uriel Queiroz| Ativo| Porto Alegre|    54|2018-05-05|\n",
      "| 10|   Viviana Sequeira| Ativo| Porto Alegre|     0|2020-09-05|\n",
      "+---+-------------------+------+-------------+------+----------+\n",
      "\n"
     ]
    }
   ],
   "source": [
    "novodf.show()"
   ]
  },
  {
   "cell_type": "markdown",
   "id": "cdd3dfbb",
   "metadata": {},
   "source": [
    "**Alterando o tipo de dado da coluna**"
   ]
  },
  {
   "cell_type": "code",
   "execution_count": 30,
   "id": "e1e9a518",
   "metadata": {},
   "outputs": [],
   "source": [
    "from pyspark.sql.functions import *"
   ]
  },
  {
   "cell_type": "code",
   "execution_count": 31,
   "id": "efb47450",
   "metadata": {},
   "outputs": [],
   "source": [
    "#Cria-se mais uma coluna porém podemos deletá-la depois.\n",
    "despachantes2 = despachantes.withColumn(\"data2\", to_timestamp(func.col(\"data\"),\"yyyy-mm-dd\"))"
   ]
  },
  {
   "cell_type": "code",
   "execution_count": 32,
   "id": "750d3879",
   "metadata": {},
   "outputs": [
    {
     "name": "stdout",
     "output_type": "stream",
     "text": [
      "root\n",
      " |-- id: integer (nullable = true)\n",
      " |-- nome: string (nullable = true)\n",
      " |-- status: string (nullable = true)\n",
      " |-- cidade: string (nullable = true)\n",
      " |-- vendas: integer (nullable = true)\n",
      " |-- data: string (nullable = true)\n",
      " |-- data2: timestamp (nullable = true)\n",
      "\n"
     ]
    }
   ],
   "source": [
    "despachantes2.printSchema()"
   ]
  },
  {
   "cell_type": "markdown",
   "id": "9a0f7d58",
   "metadata": {},
   "source": [
    "**Filtrando apenas o ano da data completa**"
   ]
  },
  {
   "cell_type": "code",
   "execution_count": 33,
   "id": "ca4a31d0",
   "metadata": {},
   "outputs": [
    {
     "name": "stdout",
     "output_type": "stream",
     "text": [
      "+----------+\n",
      "|year(data)|\n",
      "+----------+\n",
      "|      2020|\n",
      "|      2020|\n",
      "|      2020|\n",
      "|      2020|\n",
      "|      2020|\n",
      "|      2019|\n",
      "|      2019|\n",
      "|      2020|\n",
      "|      2018|\n",
      "|      2020|\n",
      "+----------+\n",
      "\n"
     ]
    }
   ],
   "source": [
    "despachantes.select(year(\"data\")).show()"
   ]
  },
  {
   "cell_type": "markdown",
   "id": "f8cbbc42",
   "metadata": {},
   "source": [
    "**Filtrando as datas que aparecem apenas uma vez**"
   ]
  },
  {
   "cell_type": "code",
   "execution_count": 34,
   "id": "58e69f9a",
   "metadata": {},
   "outputs": [
    {
     "name": "stdout",
     "output_type": "stream",
     "text": [
      "+----------+\n",
      "|year(data)|\n",
      "+----------+\n",
      "|      2018|\n",
      "|      2019|\n",
      "|      2020|\n",
      "+----------+\n",
      "\n"
     ]
    }
   ],
   "source": [
    "despachantes.select(year(\"data\")).distinct().show()"
   ]
  },
  {
   "cell_type": "markdown",
   "id": "17b676aa",
   "metadata": {},
   "source": [
    "**Ordenando pelo nome e data**"
   ]
  },
  {
   "cell_type": "code",
   "execution_count": 36,
   "id": "5d4229f3",
   "metadata": {},
   "outputs": [
    {
     "name": "stdout",
     "output_type": "stream",
     "text": [
      "+-------------------+----------+\n",
      "|               nome|year(data)|\n",
      "+-------------------+----------+\n",
      "|   Carminda Pestana|      2020|\n",
      "|    Deolinda Vilela|      2020|\n",
      "|   Emídio Dornelles|      2020|\n",
      "|Felisbela Dornelles|      2020|\n",
      "|     Graça Ornellas|      2020|\n",
      "|   Matilde Rebouças|      2019|\n",
      "|    Noêmia   Orriça|      2019|\n",
      "|      Roque Vásquez|      2020|\n",
      "|      Uriel Queiroz|      2018|\n",
      "|   Viviana Sequeira|      2020|\n",
      "+-------------------+----------+\n",
      "\n"
     ]
    }
   ],
   "source": [
    "despachantes2.select(\"nome\", year(\"data\")).orderBy(\"nome\").show()"
   ]
  },
  {
   "cell_type": "markdown",
   "id": "b9ad24f6",
   "metadata": {},
   "source": [
    "**Contando a quantidade de registros por data**"
   ]
  },
  {
   "cell_type": "code",
   "execution_count": 39,
   "id": "851a8993",
   "metadata": {},
   "outputs": [
    {
     "name": "stdout",
     "output_type": "stream",
     "text": [
      "+----------+-----+\n",
      "|year(data)|count|\n",
      "+----------+-----+\n",
      "|      2018|    1|\n",
      "|      2019|    2|\n",
      "|      2020|    7|\n",
      "+----------+-----+\n",
      "\n"
     ]
    }
   ],
   "source": [
    "despachantes2.select(\"data\").groupBy(year(\"data\")).count().show()"
   ]
  },
  {
   "cell_type": "markdown",
   "id": "7c36d1ad",
   "metadata": {},
   "source": [
    "**Somar a quantidade de vendas**"
   ]
  },
  {
   "cell_type": "code",
   "execution_count": 40,
   "id": "aa7fcf2d",
   "metadata": {},
   "outputs": [
    {
     "name": "stdout",
     "output_type": "stream",
     "text": [
      "+-----------+\n",
      "|sum(vendas)|\n",
      "+-----------+\n",
      "|        325|\n",
      "+-----------+\n",
      "\n"
     ]
    }
   ],
   "source": [
    "despachantes2.select(func.sum(\"vendas\")).show()"
   ]
  },
  {
   "cell_type": "markdown",
   "id": "84f29993",
   "metadata": {},
   "source": [
    "**Principais ações e transformações em dataframes**"
   ]
  },
  {
   "cell_type": "markdown",
   "id": "cf7534c5",
   "metadata": {},
   "source": [
    "**Forma tabular**"
   ]
  },
  {
   "cell_type": "code",
   "execution_count": 42,
   "id": "652412e7",
   "metadata": {},
   "outputs": [
    {
     "name": "stdout",
     "output_type": "stream",
     "text": [
      "+---+-------------------+------+-------------+------+----------+\n",
      "| id|               nome|status|       cidade|vendas|      data|\n",
      "+---+-------------------+------+-------------+------+----------+\n",
      "|  1|   Carminda Pestana| Ativo|  Santa Maria|    23|2020-08-11|\n",
      "|  2|    Deolinda Vilela| Ativo|Novo Hamburgo|    34|2020-03-05|\n",
      "|  3|   Emídio Dornelles| Ativo| Porto Alegre|    34|2020-02-05|\n",
      "|  4|Felisbela Dornelles| Ativo| Porto Alegre|    36|2020-02-05|\n",
      "|  5|     Graça Ornellas| Ativo| Porto Alegre|    12|2020-02-05|\n",
      "|  6|   Matilde Rebouças| Ativo| Porto Alegre|    22|2019-01-05|\n",
      "|  7|    Noêmia   Orriça| Ativo|  Santa Maria|    45|2019-10-05|\n",
      "|  8|      Roque Vásquez| Ativo| Porto Alegre|    65|2020-03-05|\n",
      "|  9|      Uriel Queiroz| Ativo| Porto Alegre|    54|2018-05-05|\n",
      "| 10|   Viviana Sequeira| Ativo| Porto Alegre|     0|2020-09-05|\n",
      "+---+-------------------+------+-------------+------+----------+\n",
      "\n"
     ]
    }
   ],
   "source": [
    "despachantes.show()"
   ]
  },
  {
   "cell_type": "markdown",
   "id": "2c36738a",
   "metadata": {},
   "source": [
    "**Forma de lista (take)** "
   ]
  },
  {
   "cell_type": "code",
   "execution_count": 44,
   "id": "6d048d79",
   "metadata": {},
   "outputs": [
    {
     "data": {
      "text/plain": [
       "[Row(id=1, nome='Carminda Pestana', status='Ativo', cidade='Santa Maria', vendas=23, data='2020-08-11'),\n",
       " Row(id=2, nome='Deolinda Vilela', status='Ativo', cidade='Novo Hamburgo', vendas=34, data='2020-03-05')]"
      ]
     },
     "execution_count": 44,
     "metadata": {},
     "output_type": "execute_result"
    }
   ],
   "source": [
    "despachantes.take(2)"
   ]
  },
  {
   "cell_type": "markdown",
   "id": "814555e5",
   "metadata": {},
   "source": [
    "**Collect**"
   ]
  },
  {
   "cell_type": "code",
   "execution_count": 45,
   "id": "da03a03a",
   "metadata": {},
   "outputs": [
    {
     "data": {
      "text/plain": [
       "[Row(id=1, nome='Carminda Pestana', status='Ativo', cidade='Santa Maria', vendas=23, data='2020-08-11'),\n",
       " Row(id=2, nome='Deolinda Vilela', status='Ativo', cidade='Novo Hamburgo', vendas=34, data='2020-03-05'),\n",
       " Row(id=3, nome='Emídio Dornelles', status='Ativo', cidade='Porto Alegre', vendas=34, data='2020-02-05'),\n",
       " Row(id=4, nome='Felisbela Dornelles', status='Ativo', cidade='Porto Alegre', vendas=36, data='2020-02-05'),\n",
       " Row(id=5, nome='Graça Ornellas', status='Ativo', cidade='Porto Alegre', vendas=12, data='2020-02-05'),\n",
       " Row(id=6, nome='Matilde Rebouças', status='Ativo', cidade='Porto Alegre', vendas=22, data='2019-01-05'),\n",
       " Row(id=7, nome='Noêmia   Orriça', status='Ativo', cidade='Santa Maria', vendas=45, data='2019-10-05'),\n",
       " Row(id=8, nome='Roque Vásquez', status='Ativo', cidade='Porto Alegre', vendas=65, data='2020-03-05'),\n",
       " Row(id=9, nome='Uriel Queiroz', status='Ativo', cidade='Porto Alegre', vendas=54, data='2018-05-05'),\n",
       " Row(id=10, nome='Viviana Sequeira', status='Ativo', cidade='Porto Alegre', vendas=0, data='2020-09-05')]"
      ]
     },
     "execution_count": 45,
     "metadata": {},
     "output_type": "execute_result"
    }
   ],
   "source": [
    "#Trás todos os dados na forma duma lista. Ação herdada dos RDDs.\n",
    "despachantes.collect()"
   ]
  },
  {
   "cell_type": "markdown",
   "id": "cdb2b7c0",
   "metadata": {},
   "source": [
    "**Count**"
   ]
  },
  {
   "cell_type": "code",
   "execution_count": 47,
   "id": "826936aa",
   "metadata": {},
   "outputs": [
    {
     "data": {
      "text/plain": [
       "10"
      ]
     },
     "execution_count": 47,
     "metadata": {},
     "output_type": "execute_result"
    }
   ],
   "source": [
    "#Trás os numeros de linhas (row) do dataframe.\n",
    "despachantes.count()"
   ]
  },
  {
   "cell_type": "markdown",
   "id": "e57d28d9",
   "metadata": {},
   "source": [
    "**orderBy**"
   ]
  },
  {
   "cell_type": "code",
   "execution_count": 48,
   "id": "6f5a7a59",
   "metadata": {},
   "outputs": [
    {
     "name": "stdout",
     "output_type": "stream",
     "text": [
      "+---+-------------------+------+-------------+------+----------+\n",
      "| id|               nome|status|       cidade|vendas|      data|\n",
      "+---+-------------------+------+-------------+------+----------+\n",
      "| 10|   Viviana Sequeira| Ativo| Porto Alegre|     0|2020-09-05|\n",
      "|  5|     Graça Ornellas| Ativo| Porto Alegre|    12|2020-02-05|\n",
      "|  6|   Matilde Rebouças| Ativo| Porto Alegre|    22|2019-01-05|\n",
      "|  1|   Carminda Pestana| Ativo|  Santa Maria|    23|2020-08-11|\n",
      "|  2|    Deolinda Vilela| Ativo|Novo Hamburgo|    34|2020-03-05|\n",
      "|  3|   Emídio Dornelles| Ativo| Porto Alegre|    34|2020-02-05|\n",
      "|  4|Felisbela Dornelles| Ativo| Porto Alegre|    36|2020-02-05|\n",
      "|  7|    Noêmia   Orriça| Ativo|  Santa Maria|    45|2019-10-05|\n",
      "|  9|      Uriel Queiroz| Ativo| Porto Alegre|    54|2018-05-05|\n",
      "|  8|      Roque Vásquez| Ativo| Porto Alegre|    65|2020-03-05|\n",
      "+---+-------------------+------+-------------+------+----------+\n",
      "\n"
     ]
    }
   ],
   "source": [
    "# Por padrão ordena do menor para o maior (crescente)\n",
    "despachantes.orderBy(\"vendas\").show()"
   ]
  },
  {
   "cell_type": "code",
   "execution_count": 51,
   "id": "e914143e",
   "metadata": {},
   "outputs": [
    {
     "name": "stdout",
     "output_type": "stream",
     "text": [
      "+---+-------------------+------+-------------+------+----------+\n",
      "| id|               nome|status|       cidade|vendas|      data|\n",
      "+---+-------------------+------+-------------+------+----------+\n",
      "|  8|      Roque Vásquez| Ativo| Porto Alegre|    65|2020-03-05|\n",
      "|  9|      Uriel Queiroz| Ativo| Porto Alegre|    54|2018-05-05|\n",
      "|  7|    Noêmia   Orriça| Ativo|  Santa Maria|    45|2019-10-05|\n",
      "|  4|Felisbela Dornelles| Ativo| Porto Alegre|    36|2020-02-05|\n",
      "|  2|    Deolinda Vilela| Ativo|Novo Hamburgo|    34|2020-03-05|\n",
      "|  3|   Emídio Dornelles| Ativo| Porto Alegre|    34|2020-02-05|\n",
      "|  1|   Carminda Pestana| Ativo|  Santa Maria|    23|2020-08-11|\n",
      "|  6|   Matilde Rebouças| Ativo| Porto Alegre|    22|2019-01-05|\n",
      "|  5|     Graça Ornellas| Ativo| Porto Alegre|    12|2020-02-05|\n",
      "| 10|   Viviana Sequeira| Ativo| Porto Alegre|     0|2020-09-05|\n",
      "+---+-------------------+------+-------------+------+----------+\n",
      "\n"
     ]
    }
   ],
   "source": [
    "# Decrescente\n",
    "despachantes.orderBy(func.col(\"vendas\").desc()).show()"
   ]
  },
  {
   "cell_type": "code",
   "execution_count": 53,
   "id": "a12c4471",
   "metadata": {},
   "outputs": [
    {
     "name": "stdout",
     "output_type": "stream",
     "text": [
      "+---+-------------------+------+-------------+------+----------+\n",
      "| id|               nome|status|       cidade|vendas|      data|\n",
      "+---+-------------------+------+-------------+------+----------+\n",
      "|  7|    Noêmia   Orriça| Ativo|  Santa Maria|    45|2019-10-05|\n",
      "|  1|   Carminda Pestana| Ativo|  Santa Maria|    23|2020-08-11|\n",
      "|  8|      Roque Vásquez| Ativo| Porto Alegre|    65|2020-03-05|\n",
      "|  9|      Uriel Queiroz| Ativo| Porto Alegre|    54|2018-05-05|\n",
      "|  4|Felisbela Dornelles| Ativo| Porto Alegre|    36|2020-02-05|\n",
      "|  3|   Emídio Dornelles| Ativo| Porto Alegre|    34|2020-02-05|\n",
      "|  6|   Matilde Rebouças| Ativo| Porto Alegre|    22|2019-01-05|\n",
      "|  5|     Graça Ornellas| Ativo| Porto Alegre|    12|2020-02-05|\n",
      "| 10|   Viviana Sequeira| Ativo| Porto Alegre|     0|2020-09-05|\n",
      "|  2|    Deolinda Vilela| Ativo|Novo Hamburgo|    34|2020-03-05|\n",
      "+---+-------------------+------+-------------+------+----------+\n",
      "\n"
     ]
    }
   ],
   "source": [
    "# Ordenando a coluna cidade e a coluna vendas de forma decrescente.\n",
    "despachantes.orderBy(func.col(\"cidade\").desc(), func.col(\"vendas\").desc()).show()"
   ]
  },
  {
   "cell_type": "markdown",
   "id": "f018475d",
   "metadata": {},
   "source": [
    "**Total de vendas por cidade**"
   ]
  },
  {
   "cell_type": "code",
   "execution_count": 54,
   "id": "c1b1f979",
   "metadata": {},
   "outputs": [
    {
     "name": "stdout",
     "output_type": "stream",
     "text": [
      "+-------------+-----------+\n",
      "|       cidade|sum(vendas)|\n",
      "+-------------+-----------+\n",
      "|  Santa Maria|         68|\n",
      "|Novo Hamburgo|         34|\n",
      "| Porto Alegre|        223|\n",
      "+-------------+-----------+\n",
      "\n"
     ]
    }
   ],
   "source": [
    "despachantes.groupBy(\"cidade\").agg(sum(\"vendas\")).show()"
   ]
  },
  {
   "cell_type": "markdown",
   "id": "c3b3c472",
   "metadata": {},
   "source": [
    "**Agregando as vendas por cidade e ordenando do maior para o menor**"
   ]
  },
  {
   "cell_type": "code",
   "execution_count": 56,
   "id": "2abbeef7",
   "metadata": {},
   "outputs": [
    {
     "name": "stdout",
     "output_type": "stream",
     "text": [
      "+-------------+-----------+\n",
      "|       cidade|sum(vendas)|\n",
      "+-------------+-----------+\n",
      "| Porto Alegre|        223|\n",
      "|  Santa Maria|         68|\n",
      "|Novo Hamburgo|         34|\n",
      "+-------------+-----------+\n",
      "\n"
     ]
    }
   ],
   "source": [
    "# Agreguei as vendas por cidade e ordenei do maior para o menor.\n",
    "despachantes.groupBy(\"cidade\").agg(sum(\"vendas\")).orderBy(func.col(\"sum(vendas)\").desc()).show()"
   ]
  },
  {
   "cell_type": "markdown",
   "id": "00ffb769",
   "metadata": {},
   "source": [
    "**Filter**"
   ]
  },
  {
   "cell_type": "code",
   "execution_count": 57,
   "id": "57c31769",
   "metadata": {},
   "outputs": [
    {
     "name": "stdout",
     "output_type": "stream",
     "text": [
      "+---+-------------------+------+-------------+------+----------+\n",
      "| id|               nome|status|       cidade|vendas|      data|\n",
      "+---+-------------------+------+-------------+------+----------+\n",
      "|  1|   Carminda Pestana| Ativo|  Santa Maria|    23|2020-08-11|\n",
      "|  2|    Deolinda Vilela| Ativo|Novo Hamburgo|    34|2020-03-05|\n",
      "|  3|   Emídio Dornelles| Ativo| Porto Alegre|    34|2020-02-05|\n",
      "|  4|Felisbela Dornelles| Ativo| Porto Alegre|    36|2020-02-05|\n",
      "|  5|     Graça Ornellas| Ativo| Porto Alegre|    12|2020-02-05|\n",
      "|  6|   Matilde Rebouças| Ativo| Porto Alegre|    22|2019-01-05|\n",
      "|  7|    Noêmia   Orriça| Ativo|  Santa Maria|    45|2019-10-05|\n",
      "|  8|      Roque Vásquez| Ativo| Porto Alegre|    65|2020-03-05|\n",
      "|  9|      Uriel Queiroz| Ativo| Porto Alegre|    54|2018-05-05|\n",
      "| 10|   Viviana Sequeira| Ativo| Porto Alegre|     0|2020-09-05|\n",
      "+---+-------------------+------+-------------+------+----------+\n",
      "\n"
     ]
    }
   ],
   "source": [
    "despachantes.show()"
   ]
  },
  {
   "cell_type": "code",
   "execution_count": 59,
   "id": "487d48be",
   "metadata": {},
   "outputs": [
    {
     "name": "stdout",
     "output_type": "stream",
     "text": [
      "+---+---------------+------+-------------+------+----------+\n",
      "| id|           nome|status|       cidade|vendas|      data|\n",
      "+---+---------------+------+-------------+------+----------+\n",
      "|  2|Deolinda Vilela| Ativo|Novo Hamburgo|    34|2020-03-05|\n",
      "+---+---------------+------+-------------+------+----------+\n",
      "\n"
     ]
    }
   ],
   "source": [
    "despachantes.filter(func.col(\"nome\") == \"Deolinda Vilela\").show()"
   ]
  }
 ],
 "metadata": {
  "kernelspec": {
   "display_name": "Python 3 (ipykernel)",
   "language": "python",
   "name": "python3"
  },
  "language_info": {
   "codemirror_mode": {
    "name": "ipython",
    "version": 3
   },
   "file_extension": ".py",
   "mimetype": "text/x-python",
   "name": "python",
   "nbconvert_exporter": "python",
   "pygments_lexer": "ipython3",
   "version": "3.8.10"
  }
 },
 "nbformat": 4,
 "nbformat_minor": 5
}
