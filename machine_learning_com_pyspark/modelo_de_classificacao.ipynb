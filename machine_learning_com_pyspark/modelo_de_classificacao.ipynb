{
 "cells": [
  {
   "cell_type": "markdown",
   "id": "58e0a18d",
   "metadata": {},
   "source": [
    "**Importando bibliotecas**"
   ]
  },
  {
   "cell_type": "code",
   "execution_count": null,
   "id": "a5dac62f",
   "metadata": {},
   "outputs": [],
   "source": [
    "from pyspark.sql import SparkSession\n",
    "from pyspark.ml.feature import RFormula\n",
    "from pyspark.ml.classification import DecisionTreeClassifier\n",
    "from pyspark.ml.evaluation import BinaryClassificationEvaluator"
   ]
  },
  {
   "cell_type": "markdown",
   "id": "208d4e8b",
   "metadata": {},
   "source": [
    "**Criando uma aplicação Spark**"
   ]
  },
  {
   "cell_type": "code",
   "execution_count": null,
   "id": "34a73e0e",
   "metadata": {},
   "outputs": [],
   "source": [
    "spark = SparkSession.builder.master(\"local\").appName(\"Classificação\").getOrCreate()"
   ]
  },
  {
   "cell_type": "markdown",
   "id": "1289a691",
   "metadata": {},
   "source": [
    "**Importando dados**"
   ]
  },
  {
   "cell_type": "code",
   "execution_count": null,
   "id": "d4c4ed8c",
   "metadata": {},
   "outputs": [],
   "source": [
    "churn = spark.read.csv(\"/home/rowedder/download/churn.csv\", inferSchema=True, header=True, sep=\";\")"
   ]
  },
  {
   "cell_type": "code",
   "execution_count": null,
   "id": "925fe8a1",
   "metadata": {},
   "outputs": [],
   "source": [
    "churn.show(3)"
   ]
  },
  {
   "cell_type": "markdown",
   "id": "d686a967",
   "metadata": {},
   "source": [
    "**Criando o objeto (RFormula)**"
   ]
  },
  {
   "cell_type": "code",
   "execution_count": null,
   "id": "007b5d9e",
   "metadata": {},
   "outputs": [],
   "source": [
    "formula = RFormula(formula=\"Exited ~ .\", featuresCol=\"features\", labelCol=\"label\", handleInvalid=\"skip\")"
   ]
  },
  {
   "cell_type": "code",
   "execution_count": null,
   "id": "7208a3d4",
   "metadata": {},
   "outputs": [],
   "source": [
    "churn_trans = formula.fit(churn).transform(churn).select(\"features\", \"label\")"
   ]
  },
  {
   "cell_type": "code",
   "execution_count": null,
   "id": "5a2237dc",
   "metadata": {},
   "outputs": [],
   "source": [
    "churn_trans.show(truncate=False)"
   ]
  },
  {
   "cell_type": "markdown",
   "id": "3d4bf49b",
   "metadata": {},
   "source": [
    "**Dividindo os dados em porcentagem para treino e teste**"
   ]
  },
  {
   "cell_type": "code",
   "execution_count": null,
   "id": "a2eacab7",
   "metadata": {},
   "outputs": [],
   "source": [
    "churn_treino, churn_teste = churn_trans.randomSplit([0.7,0.3])"
   ]
  },
  {
   "cell_type": "code",
   "execution_count": null,
   "id": "d03c7d7c",
   "metadata": {},
   "outputs": [],
   "source": [
    "print(churn_treino.count())"
   ]
  },
  {
   "cell_type": "code",
   "execution_count": null,
   "id": "ca40f23c",
   "metadata": {},
   "outputs": [],
   "source": [
    "print(churn_teste.count())"
   ]
  },
  {
   "cell_type": "markdown",
   "id": "47adafe7",
   "metadata": {},
   "source": [
    "**Criando o objeto (Árvore de Decisão)**"
   ]
  },
  {
   "cell_type": "code",
   "execution_count": null,
   "id": "70f053e1",
   "metadata": {},
   "outputs": [],
   "source": [
    "dt = DecisionTreeClassifier(labelCol=\"label\", featuresCol=\"features\")"
   ]
  },
  {
   "cell_type": "markdown",
   "id": "90430fc6",
   "metadata": {},
   "source": [
    "**Criando o modelo de treino (fit)**"
   ]
  },
  {
   "cell_type": "code",
   "execution_count": null,
   "id": "68e07ea9",
   "metadata": {},
   "outputs": [],
   "source": [
    "modelo = dt.fit(churn_treino)"
   ]
  },
  {
   "cell_type": "markdown",
   "id": "f6aeaa95",
   "metadata": {},
   "source": [
    "**Testando o modelo (Previsão)**"
   ]
  },
  {
   "cell_type": "code",
   "execution_count": null,
   "id": "964b7d08",
   "metadata": {},
   "outputs": [],
   "source": [
    "previsao = modelo.transform(churn_teste)"
   ]
  },
  {
   "cell_type": "code",
   "execution_count": null,
   "id": "59636a7b",
   "metadata": {},
   "outputs": [],
   "source": [
    "previsao.show()"
   ]
  },
  {
   "cell_type": "markdown",
   "id": "38cc1d7c",
   "metadata": {},
   "source": [
    "**Avaliando a performance do modelo de árvore de decisão (Métrica de Performance)**"
   ]
  },
  {
   "cell_type": "code",
   "execution_count": null,
   "id": "1e5d3812",
   "metadata": {},
   "outputs": [],
   "source": [
    "avaliar = BinaryClassificationEvaluator(rawPredictionCol=\"prediction\", labelCol=\"label\", metricName=\"areaUnderROC\")"
   ]
  },
  {
   "cell_type": "code",
   "execution_count": null,
   "id": "45830a6d",
   "metadata": {},
   "outputs": [],
   "source": [
    "areaUnderRoc = avaliar.evaluate(previsao)"
   ]
  },
  {
   "cell_type": "code",
   "execution_count": null,
   "id": "dd8b4926",
   "metadata": {},
   "outputs": [],
   "source": [
    "print(areaUnderRoc)"
   ]
  }
 ],
 "metadata": {
  "kernelspec": {
   "display_name": "Python 3 (ipykernel)",
   "language": "python",
   "name": "python3"
  },
  "language_info": {
   "codemirror_mode": {
    "name": "ipython",
    "version": 3
   },
   "file_extension": ".py",
   "mimetype": "text/x-python",
   "name": "python",
   "nbconvert_exporter": "python",
   "pygments_lexer": "ipython3",
   "version": "3.8.10"
  }
 },
 "nbformat": 4,
 "nbformat_minor": 5
}
