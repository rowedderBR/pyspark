{
 "cells": [
  {
   "cell_type": "markdown",
   "id": "90bcff4c",
   "metadata": {},
   "source": [
    "**Importando bibliotecas**"
   ]
  },
  {
   "cell_type": "code",
   "execution_count": null,
   "id": "02d340d7",
   "metadata": {},
   "outputs": [],
   "source": [
    "from pyspark.sql import SparkSession\n",
    "from pyspark.ml.regression import LinearRegression, RandomForestRegressor\n",
    "from pyspark.ml.evaluation import RegressionEvaluator\n",
    "from pyspark.ml.feature import VectorAssembler"
   ]
  },
  {
   "cell_type": "markdown",
   "id": "9ad7d6ec",
   "metadata": {},
   "source": [
    "**Criando uma aplicação Spark**"
   ]
  },
  {
   "cell_type": "code",
   "execution_count": null,
   "id": "3418544f",
   "metadata": {},
   "outputs": [],
   "source": [
    "spark = SparkSession.builder.master(\"local\").appName(\"RegressaoLinear\").getOrCreate()"
   ]
  },
  {
   "cell_type": "markdown",
   "id": "0d59cc11",
   "metadata": {},
   "source": [
    "**Importando dados**"
   ]
  },
  {
   "cell_type": "code",
   "execution_count": null,
   "id": "381d13aa",
   "metadata": {},
   "outputs": [],
   "source": [
    "carros_temp = spark.read.csv(\"/home/rowedder/download/Carros.csv\", inferSchema=True, header=True, sep=\";\")"
   ]
  },
  {
   "cell_type": "code",
   "execution_count": null,
   "id": "400033ad",
   "metadata": {},
   "outputs": [],
   "source": [
    "carros_temp.show(5)"
   ]
  },
  {
   "cell_type": "code",
   "execution_count": null,
   "id": "58b83716",
   "metadata": {},
   "outputs": [],
   "source": [
    "# Três variáveis independentes e uma dependente.\n",
    "carros = carros_temp.select(\"Consumo\", \"Cilindros\", \"Cilindradas\", \"HP\")"
   ]
  },
  {
   "cell_type": "code",
   "execution_count": null,
   "id": "e00fbad4",
   "metadata": {},
   "outputs": [],
   "source": [
    "carros.show(5)"
   ]
  },
  {
   "cell_type": "markdown",
   "id": "f51c48a1",
   "metadata": {},
   "source": [
    "**Criando vector de características**"
   ]
  },
  {
   "cell_type": "code",
   "execution_count": null,
   "id": "e02209ea",
   "metadata": {},
   "outputs": [],
   "source": [
    "veccaracteristicas = VectorAssembler(inputCols=[(\"Consumo\"),(\"Cilindros\"),(\"Cilindradas\")], outputCol=\"caracteristicas\")"
   ]
  },
  {
   "cell_type": "code",
   "execution_count": null,
   "id": "41fc376c",
   "metadata": {},
   "outputs": [],
   "source": [
    "# Transforma a coluna: Consumo, Cilindro e Cilindradas na coluna caracteristicas. \n",
    "carros = veccaracteristicas.transform(carros)"
   ]
  },
  {
   "cell_type": "code",
   "execution_count": null,
   "id": "90484829",
   "metadata": {},
   "outputs": [],
   "source": [
    "carros.show(5)"
   ]
  },
  {
   "cell_type": "markdown",
   "id": "9b7f1aea",
   "metadata": {},
   "source": [
    "**Dividindo os dados em porcentagem para treino e teste**"
   ]
  },
  {
   "cell_type": "code",
   "execution_count": null,
   "id": "08e67c64",
   "metadata": {},
   "outputs": [],
   "source": [
    "carros_treino, carros_teste = carros.randomSplit([0.7, 0.3])"
   ]
  },
  {
   "cell_type": "code",
   "execution_count": null,
   "id": "af335032",
   "metadata": {},
   "outputs": [],
   "source": [
    "print(carros_treino.count())"
   ]
  },
  {
   "cell_type": "code",
   "execution_count": null,
   "id": "357774cd",
   "metadata": {},
   "outputs": [],
   "source": [
    "print(carros_teste.count())"
   ]
  },
  {
   "cell_type": "markdown",
   "id": "d98d7914",
   "metadata": {},
   "source": [
    "**Criando o objeto (Regressão Linear)**"
   ]
  },
  {
   "cell_type": "code",
   "execution_count": null,
   "id": "725c13ee",
   "metadata": {},
   "outputs": [],
   "source": [
    "reglin = LinearRegression(featuresCol=\"caracteristicas\", labelCol=\"HP\")"
   ]
  },
  {
   "cell_type": "markdown",
   "id": "cdacc84f",
   "metadata": {},
   "source": [
    "**Criando o modelo de treino (fit)**"
   ]
  },
  {
   "cell_type": "code",
   "execution_count": null,
   "id": "5f9b5678",
   "metadata": {},
   "outputs": [],
   "source": [
    "modelo = reglin.fit(carros_treino)"
   ]
  },
  {
   "cell_type": "markdown",
   "id": "ac0476d8",
   "metadata": {},
   "source": [
    "**Testando o modelo (Previsão)**"
   ]
  },
  {
   "cell_type": "code",
   "execution_count": null,
   "id": "16c700dd",
   "metadata": {},
   "outputs": [],
   "source": [
    "previsao = modelo.transform(carros_teste)"
   ]
  },
  {
   "cell_type": "code",
   "execution_count": null,
   "id": "549935cc",
   "metadata": {},
   "outputs": [],
   "source": [
    "previsao.show(5)"
   ]
  },
  {
   "cell_type": "markdown",
   "id": "fea3df55",
   "metadata": {},
   "source": [
    "**Avaliando a performance do modelo de regressão linear (Métrica de Performance)**"
   ]
  },
  {
   "cell_type": "code",
   "execution_count": null,
   "id": "bbf996d2",
   "metadata": {},
   "outputs": [],
   "source": [
    "avaliar = RegressionEvaluator(predictionCol=\"prediction\", labelCol=\"HP\", metricName=\"rmse\")"
   ]
  },
  {
   "cell_type": "code",
   "execution_count": null,
   "id": "2fbaa673",
   "metadata": {},
   "outputs": [],
   "source": [
    "rmse = avaliar.evaluate(previsao)"
   ]
  },
  {
   "cell_type": "code",
   "execution_count": null,
   "id": "c3e91eba",
   "metadata": {},
   "outputs": [],
   "source": [
    "print(rmse)"
   ]
  },
  {
   "cell_type": "markdown",
   "id": "d27ae97f",
   "metadata": {},
   "source": [
    "**CRIANDO UM NOVO MODELO**"
   ]
  },
  {
   "cell_type": "markdown",
   "id": "4435cde2",
   "metadata": {},
   "source": [
    "**Criando o objeto (Florestas de decisão)**"
   ]
  },
  {
   "cell_type": "code",
   "execution_count": null,
   "id": "b749f17c",
   "metadata": {},
   "outputs": [],
   "source": [
    "rfreg = RandomForestRegressor(featuresCol=\"caracteristicas\", labelCol=\"HP\")"
   ]
  },
  {
   "cell_type": "markdown",
   "id": "2de5cc3b",
   "metadata": {},
   "source": [
    "**Criando o modelo de treino (fit)**"
   ]
  },
  {
   "cell_type": "code",
   "execution_count": null,
   "id": "11c5d14c",
   "metadata": {},
   "outputs": [],
   "source": [
    "modelo2 = rfreg.fit(carros_treino)"
   ]
  },
  {
   "cell_type": "markdown",
   "id": "e81b8116",
   "metadata": {},
   "source": [
    "**Testando o modelo (Previsão)**"
   ]
  },
  {
   "cell_type": "code",
   "execution_count": null,
   "id": "ef4010dc",
   "metadata": {},
   "outputs": [],
   "source": [
    "previsao2 = modelo2.transform(carros_teste)"
   ]
  },
  {
   "cell_type": "code",
   "execution_count": null,
   "id": "c44bd048",
   "metadata": {},
   "outputs": [],
   "source": [
    "previsao.show(5)"
   ]
  },
  {
   "cell_type": "markdown",
   "id": "7e6dcc4a",
   "metadata": {},
   "source": [
    "**Avaliando a performance do modelo de florestas de decisão (Métrica de Performance)**"
   ]
  },
  {
   "cell_type": "code",
   "execution_count": null,
   "id": "19c02f15",
   "metadata": {},
   "outputs": [],
   "source": [
    "rmse2 = avaliar.evaluate(previsao2)"
   ]
  },
  {
   "cell_type": "code",
   "execution_count": null,
   "id": "8e428e31",
   "metadata": {},
   "outputs": [],
   "source": [
    "print(rmse2)"
   ]
  }
 ],
 "metadata": {
  "kernelspec": {
   "display_name": "Python 3 (ipykernel)",
   "language": "python",
   "name": "python3"
  },
  "language_info": {
   "codemirror_mode": {
    "name": "ipython",
    "version": 3
   },
   "file_extension": ".py",
   "mimetype": "text/x-python",
   "name": "python",
   "nbconvert_exporter": "python",
   "pygments_lexer": "ipython3",
   "version": "3.8.10"
  }
 },
 "nbformat": 4,
 "nbformat_minor": 5
}
