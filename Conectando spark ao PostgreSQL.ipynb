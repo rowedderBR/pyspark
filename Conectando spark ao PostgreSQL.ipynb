{
 "cells": [
  {
   "cell_type": "code",
   "execution_count": null,
   "id": "ff2232c4",
   "metadata": {},
   "outputs": [],
   "source": [
    "import pyspark\n",
    "from pyspark.sql import SparkSession\n",
    "from pyspark.sql.types import *"
   ]
  },
  {
   "cell_type": "markdown",
   "id": "5e332034",
   "metadata": {},
   "source": [
    "**Criando uma aplicação Spark**"
   ]
  },
  {
   "cell_type": "code",
   "execution_count": null,
   "id": "0d8edac1",
   "metadata": {},
   "outputs": [],
   "source": [
    "spark = SparkSession.builder.master(\"local\").appName(\"Python Spark SQL basic example\").config(\"spark.jars\", \"/home/rowedder/Downloads/postgresql-42.3.5.jar\").getOrCreate()"
   ]
  },
  {
   "cell_type": "markdown",
   "id": "cab929c5",
   "metadata": {},
   "source": [
    "**Criando conexão com o banco de dados**"
   ]
  },
  {
   "cell_type": "code",
   "execution_count": null,
   "id": "b80cacd5",
   "metadata": {},
   "outputs": [],
   "source": [
    "# Banco de dados agregacao/tabela produtos\n",
    "tb_produtos = spark.read.format(\"jdbc\").option(\"url\", \"jdbc:postgresql://localhost:5432/agregacao\").option(\"dbtable\", \"produtos\").option(\"user\", \"admin\").option(\"password\", \"123\").option(\"driver\", \"org.postgresql.Driver\").load()"
   ]
  },
  {
   "cell_type": "code",
   "execution_count": null,
   "id": "f73c5d65",
   "metadata": {},
   "outputs": [],
   "source": [
    "# Banco de dados agregacao/tabela categorias\n",
    "tb_categorias = spark.read.format(\"jdbc\").option(\"url\", \"jdbc:postgresql://localhost:5432/agregacao\").option(\"dbtable\", \"categorias\").option(\"user\", \"admin\").option(\"password\", \"123\").option(\"driver\", \"org.postgresql.Driver\").load()"
   ]
  },
  {
   "cell_type": "markdown",
   "id": "08d2fa46",
   "metadata": {},
   "source": [
    "**Query com a API dataframe Spark**"
   ]
  },
  {
   "cell_type": "code",
   "execution_count": null,
   "id": "52230df2",
   "metadata": {},
   "outputs": [],
   "source": [
    "tb_produtos.show()"
   ]
  },
  {
   "cell_type": "code",
   "execution_count": null,
   "id": "6183b2ff",
   "metadata": {},
   "outputs": [],
   "source": [
    "tb_produtos.select(\"preco_venda\", \"id_categoria\").show()"
   ]
  },
  {
   "cell_type": "code",
   "execution_count": null,
   "id": "5a5f4af2",
   "metadata": {},
   "outputs": [],
   "source": [
    "tb_categorias.show()"
   ]
  },
  {
   "cell_type": "code",
   "execution_count": null,
   "id": "4d35ca60",
   "metadata": {},
   "outputs": [],
   "source": [
    "tb_categorias.select(\"nome\").show()"
   ]
  },
  {
   "cell_type": "markdown",
   "id": "05814b98",
   "metadata": {},
   "source": [
    "**Criando tabela no postgres via spark**"
   ]
  },
  {
   "cell_type": "code",
   "execution_count": null,
   "id": "8a5d7b07",
   "metadata": {},
   "outputs": [],
   "source": [
    "clientes = tb_produtos.select(\"descricao\", \"preco_venda\")"
   ]
  },
  {
   "cell_type": "code",
   "execution_count": null,
   "id": "14923873",
   "metadata": {},
   "outputs": [],
   "source": [
    "clientes.show()"
   ]
  },
  {
   "cell_type": "code",
   "execution_count": null,
   "id": "1486bc0b",
   "metadata": {},
   "outputs": [],
   "source": [
    "# Escrevendo dados no postgres.\n",
    "clientes.write.format(\"jdbc\").option(\"url\", \"jdbc:postgresql://localhost:5432/agregacao\").option(\"dbtable\", \"clientes\").option(\"user\", \"admin\").option(\"password\", \"123\").option(\"driver\", \"org.postgresql.Driver\").save()"
   ]
  }
 ],
 "metadata": {
  "kernelspec": {
   "display_name": "Python 3 (ipykernel)",
   "language": "python",
   "name": "python3"
  },
  "language_info": {
   "codemirror_mode": {
    "name": "ipython",
    "version": 3
   },
   "file_extension": ".py",
   "mimetype": "text/x-python",
   "name": "python",
   "nbconvert_exporter": "python",
   "pygments_lexer": "ipython3",
   "version": "3.8.10"
  }
 },
 "nbformat": 4,
 "nbformat_minor": 5
}
