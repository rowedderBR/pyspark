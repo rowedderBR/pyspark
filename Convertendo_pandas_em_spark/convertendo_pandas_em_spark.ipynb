{
 "cells": [
  {
   "cell_type": "markdown",
   "id": "6cacd6ec",
   "metadata": {},
   "source": [
    "**Importando bibliotecas**"
   ]
  },
  {
   "cell_type": "code",
   "execution_count": null,
   "id": "4a4ab43a",
   "metadata": {},
   "outputs": [],
   "source": [
    "from pyspark.sql import SparkSession\n",
    "import pandas as pd"
   ]
  },
  {
   "cell_type": "markdown",
   "id": "ad2805c6",
   "metadata": {},
   "source": [
    "**Criando uma aplicação Spark**"
   ]
  },
  {
   "cell_type": "code",
   "execution_count": null,
   "id": "c598c615",
   "metadata": {},
   "outputs": [],
   "source": [
    "spark = SparkSession.builder.master(\"local\").appName(\"Convertendo dataframes\").getOrCreate()"
   ]
  },
  {
   "cell_type": "markdown",
   "id": "b11469df",
   "metadata": {},
   "source": [
    "**Importando a base de dados com pandas**"
   ]
  },
  {
   "cell_type": "code",
   "execution_count": null,
   "id": "f31e9a85",
   "metadata": {},
   "outputs": [],
   "source": [
    "churn = pd.read_csv(\"/home/rowedder/download/churn.csv\", sep=\";\")"
   ]
  },
  {
   "cell_type": "code",
   "execution_count": null,
   "id": "ebb04a8f",
   "metadata": {},
   "outputs": [],
   "source": [
    "churn.head(2)"
   ]
  },
  {
   "cell_type": "markdown",
   "id": "31f213ec",
   "metadata": {},
   "source": [
    "**Verificando o tipo de dataframe**"
   ]
  },
  {
   "cell_type": "code",
   "execution_count": null,
   "id": "73a60b87",
   "metadata": {},
   "outputs": [],
   "source": [
    "type(churn)"
   ]
  },
  {
   "cell_type": "markdown",
   "id": "e7b136b3",
   "metadata": {},
   "source": [
    "**Convertendo um dataframe pandas em um dataframe spark**"
   ]
  },
  {
   "cell_type": "code",
   "execution_count": null,
   "id": "8f194364",
   "metadata": {},
   "outputs": [],
   "source": [
    "churn_df = spark.createDataFrame(churn)"
   ]
  },
  {
   "cell_type": "code",
   "execution_count": null,
   "id": "41148883",
   "metadata": {},
   "outputs": [],
   "source": [
    "type(churn_df)"
   ]
  },
  {
   "cell_type": "code",
   "execution_count": null,
   "id": "40fbeffd",
   "metadata": {},
   "outputs": [],
   "source": [
    "churn_df.show(2)"
   ]
  },
  {
   "cell_type": "markdown",
   "id": "d4336815",
   "metadata": {},
   "source": [
    "**Convertendo um dataframe spark em um dataframe pandas**"
   ]
  },
  {
   "cell_type": "code",
   "execution_count": null,
   "id": "292be12b",
   "metadata": {},
   "outputs": [],
   "source": [
    "pandas = churn_df.toPandas()"
   ]
  },
  {
   "cell_type": "markdown",
   "id": "ee08fed0",
   "metadata": {},
   "source": [
    "**Verificando o tipo de dataframe**"
   ]
  },
  {
   "cell_type": "code",
   "execution_count": null,
   "id": "c012b4fa",
   "metadata": {},
   "outputs": [],
   "source": [
    "type(pandas)"
   ]
  },
  {
   "cell_type": "code",
   "execution_count": null,
   "id": "23291bac",
   "metadata": {},
   "outputs": [],
   "source": [
    "pandas.head(2)"
   ]
  }
 ],
 "metadata": {
  "kernelspec": {
   "display_name": "Python 3 (ipykernel)",
   "language": "python",
   "name": "python3"
  },
  "language_info": {
   "codemirror_mode": {
    "name": "ipython",
    "version": 3
   },
   "file_extension": ".py",
   "mimetype": "text/x-python",
   "name": "python",
   "nbconvert_exporter": "python",
   "pygments_lexer": "ipython3",
   "version": "3.8.10"
  }
 },
 "nbformat": 4,
 "nbformat_minor": 5
}
