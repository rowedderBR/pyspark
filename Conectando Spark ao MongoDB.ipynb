{
 "cells": [
  {
   "cell_type": "code",
   "execution_count": null,
   "id": "cd62a306",
   "metadata": {},
   "outputs": [],
   "source": [
    "import pyspark\n",
    "from pyspark.sql import SparkSession\n",
    "from pyspark.sql.types import *"
   ]
  },
  {
   "cell_type": "markdown",
   "id": "4c959664",
   "metadata": {},
   "source": [
    "**Criando uma aplicação Spark**"
   ]
  },
  {
   "cell_type": "code",
   "execution_count": null,
   "id": "070c4b45",
   "metadata": {},
   "outputs": [],
   "source": [
    "spark = SparkSession.builder.config('spark.jars.packages','org.mongodb.spark:mongo-spark-connector_2.12:3.0.1' ).getOrCreate()"
   ]
  },
  {
   "cell_type": "markdown",
   "id": "e580639a",
   "metadata": {},
   "source": [
    "**Criando conexão com o banco de dados**"
   ]
  },
  {
   "cell_type": "code",
   "execution_count": null,
   "id": "ff35d59f",
   "metadata": {},
   "outputs": [],
   "source": [
    "#banco de dados: pokemon_center \n",
    "#collection: pokemon\n",
    "tb_categorias = spark.read.format(\"mongo\").option(\"uri\", \"mongodb://127.0.01/meudb.inscricoes\").load()"
   ]
  },
  {
   "cell_type": "markdown",
   "id": "00d7c008",
   "metadata": {},
   "source": [
    "**Query com a API dataframe Spark**"
   ]
  },
  {
   "cell_type": "code",
   "execution_count": null,
   "id": "d29f29f6",
   "metadata": {},
   "outputs": [],
   "source": [
    "tb_categorias.show()"
   ]
  },
  {
   "cell_type": "code",
   "execution_count": null,
   "id": "39a4e33c",
   "metadata": {},
   "outputs": [],
   "source": [
    "tb_categorias.select(\"aluno\", \"notas\").show(10)"
   ]
  },
  {
   "cell_type": "markdown",
   "id": "c479d697",
   "metadata": {},
   "source": [
    "**Criando uma coleção no Mongo via Spark**"
   ]
  },
  {
   "cell_type": "code",
   "execution_count": null,
   "id": "c54196ef",
   "metadata": {},
   "outputs": [],
   "source": [
    "tb_categorias.write.format(\"mongo\").option(\"uri\", \"mongodb://127.0.01/meudb.inscricoes2\").save()"
   ]
  },
  {
   "cell_type": "code",
   "execution_count": null,
   "id": "d1c1a0da",
   "metadata": {},
   "outputs": [],
   "source": []
  }
 ],
 "metadata": {
  "kernelspec": {
   "display_name": "Python 3 (ipykernel)",
   "language": "python",
   "name": "python3"
  },
  "language_info": {
   "codemirror_mode": {
    "name": "ipython",
    "version": 3
   },
   "file_extension": ".py",
   "mimetype": "text/x-python",
   "name": "python",
   "nbconvert_exporter": "python",
   "pygments_lexer": "ipython3",
   "version": "3.8.10"
  }
 },
 "nbformat": 4,
 "nbformat_minor": 5
}
