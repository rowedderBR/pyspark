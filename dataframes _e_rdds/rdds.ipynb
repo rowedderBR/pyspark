{
 "cells": [
  {
   "cell_type": "code",
   "execution_count": null,
   "id": "70886fb6",
   "metadata": {},
   "outputs": [],
   "source": [
    "from pyspark import SparkContext "
   ]
  },
  {
   "cell_type": "markdown",
   "id": "0ab64712",
   "metadata": {},
   "source": [
    "**Criando uma aplicação Spark**"
   ]
  },
  {
   "cell_type": "code",
   "execution_count": null,
   "id": "d9c5c133",
   "metadata": {},
   "outputs": [],
   "source": [
    "sc = SparkContext.getOrCreate()"
   ]
  },
  {
   "cell_type": "markdown",
   "id": "5e9f4ba7",
   "metadata": {},
   "source": [
    "**Criando um RDD**"
   ]
  },
  {
   "cell_type": "code",
   "execution_count": null,
   "id": "a96a16c8",
   "metadata": {},
   "outputs": [],
   "source": [
    "numeros = sc.parallelize([1,2,3,4,5,6,7,8,9,10])"
   ]
  },
  {
   "cell_type": "markdown",
   "id": "8df4a64e",
   "metadata": {},
   "source": [
    "**Ver os cinco primeiros elementos**"
   ]
  },
  {
   "cell_type": "code",
   "execution_count": null,
   "id": "b762a6dd",
   "metadata": {},
   "outputs": [],
   "source": [
    "numeros.take(5)"
   ]
  },
  {
   "cell_type": "markdown",
   "id": "01952491",
   "metadata": {},
   "source": [
    "**Ver os maiores elementos**"
   ]
  },
  {
   "cell_type": "code",
   "execution_count": null,
   "id": "84cf6fd6",
   "metadata": {},
   "outputs": [],
   "source": [
    "numeros.top(5)"
   ]
  },
  {
   "cell_type": "markdown",
   "id": "ba9737e7",
   "metadata": {},
   "source": [
    "**Contar a quantidade de elementos**"
   ]
  },
  {
   "cell_type": "code",
   "execution_count": null,
   "id": "d132d739",
   "metadata": {},
   "outputs": [],
   "source": [
    "numeros.count()"
   ]
  },
  {
   "cell_type": "markdown",
   "id": "691f85f0",
   "metadata": {},
   "source": [
    "**Calcular a média**"
   ]
  },
  {
   "cell_type": "code",
   "execution_count": null,
   "id": "7fbaf56c",
   "metadata": {},
   "outputs": [],
   "source": [
    "numeros.mean()"
   ]
  },
  {
   "cell_type": "markdown",
   "id": "5b24b791",
   "metadata": {},
   "source": [
    "**Somar os elementos**"
   ]
  },
  {
   "cell_type": "code",
   "execution_count": null,
   "id": "e9701f26",
   "metadata": {},
   "outputs": [],
   "source": [
    "numeros.sum()"
   ]
  },
  {
   "cell_type": "markdown",
   "id": "a1f26547",
   "metadata": {},
   "source": [
    "**Calcular o desvio padrão**"
   ]
  },
  {
   "cell_type": "code",
   "execution_count": null,
   "id": "e8d36ccf",
   "metadata": {},
   "outputs": [],
   "source": [
    "numeros.stdev()"
   ]
  },
  {
   "cell_type": "markdown",
   "id": "d0c131bc",
   "metadata": {},
   "source": [
    "**Filtrando dados**"
   ]
  },
  {
   "cell_type": "code",
   "execution_count": null,
   "id": "b342557c",
   "metadata": {},
   "outputs": [],
   "source": [
    "filtro = numeros.filter(lambda filtro: filtro > 2)"
   ]
  },
  {
   "cell_type": "code",
   "execution_count": null,
   "id": "a14ba037",
   "metadata": {},
   "outputs": [],
   "source": [
    "filtro.collect()"
   ]
  },
  {
   "cell_type": "markdown",
   "id": "8621c2a8",
   "metadata": {},
   "source": [
    "**Amostra**"
   ]
  },
  {
   "cell_type": "code",
   "execution_count": null,
   "id": "5d25f4a5",
   "metadata": {},
   "outputs": [],
   "source": [
    "amostra = numeros.sample(True, 0.5,1)"
   ]
  },
  {
   "cell_type": "code",
   "execution_count": null,
   "id": "247a1e63",
   "metadata": {},
   "outputs": [],
   "source": [
    "amostra.collect()"
   ]
  },
  {
   "cell_type": "markdown",
   "id": "a4616e57",
   "metadata": {},
   "source": [
    "**Função map**"
   ]
  },
  {
   "cell_type": "code",
   "execution_count": null,
   "id": "8beb6dbb",
   "metadata": {},
   "outputs": [],
   "source": [
    "# Todos os elementos multiplicados por 2.\n",
    "mapa = numeros.map(lambda mapa: mapa * 2)"
   ]
  },
  {
   "cell_type": "code",
   "execution_count": null,
   "id": "66743c83",
   "metadata": {},
   "outputs": [],
   "source": [
    "mapa.collect()"
   ]
  },
  {
   "cell_type": "markdown",
   "id": "aead8240",
   "metadata": {},
   "source": [
    "**Novo RDD**"
   ]
  },
  {
   "cell_type": "markdown",
   "id": "0bce1747",
   "metadata": {},
   "source": [
    "**União**"
   ]
  },
  {
   "cell_type": "code",
   "execution_count": null,
   "id": "a15894fa",
   "metadata": {},
   "outputs": [],
   "source": [
    "numeros2 = sc.parallelize([6,7,8,9,10])"
   ]
  },
  {
   "cell_type": "code",
   "execution_count": null,
   "id": "2a61a337",
   "metadata": {},
   "outputs": [],
   "source": [
    "# Unindo numeros a números2\n",
    "uniao = numeros.union(numeros2)"
   ]
  },
  {
   "cell_type": "code",
   "execution_count": null,
   "id": "532b950f",
   "metadata": {},
   "outputs": [],
   "source": [
    "uniao.collect()"
   ]
  },
  {
   "cell_type": "markdown",
   "id": "34a572ff",
   "metadata": {},
   "source": [
    "**Intersecção**"
   ]
  },
  {
   "cell_type": "code",
   "execution_count": null,
   "id": "1a23d05d",
   "metadata": {},
   "outputs": [],
   "source": [
    "# Números em comum\n",
    "interseccao = numeros.intersection(numeros2)"
   ]
  },
  {
   "cell_type": "code",
   "execution_count": null,
   "id": "b65e0e10",
   "metadata": {},
   "outputs": [],
   "source": [
    "interseccao.collect()"
   ]
  },
  {
   "cell_type": "markdown",
   "id": "c0779afe",
   "metadata": {},
   "source": [
    "**Valores diferentes**"
   ]
  },
  {
   "cell_type": "code",
   "execution_count": null,
   "id": "1354edb7",
   "metadata": {},
   "outputs": [],
   "source": [
    "subtrai = numeros.subtract(numeros2)"
   ]
  },
  {
   "cell_type": "code",
   "execution_count": null,
   "id": "bf625487",
   "metadata": {},
   "outputs": [],
   "source": [
    "subtrai.collect()"
   ]
  },
  {
   "cell_type": "markdown",
   "id": "07821cf3",
   "metadata": {},
   "source": [
    "**Produto cartesiano**"
   ]
  },
  {
   "cell_type": "code",
   "execution_count": null,
   "id": "6a345a42",
   "metadata": {},
   "outputs": [],
   "source": [
    "cartesiano = numeros.cartesian(numeros2)"
   ]
  },
  {
   "cell_type": "code",
   "execution_count": null,
   "id": "fff27f5a",
   "metadata": {},
   "outputs": [],
   "source": [
    "cartesiano.collect()"
   ]
  },
  {
   "cell_type": "code",
   "execution_count": null,
   "id": "bfc57a54",
   "metadata": {},
   "outputs": [],
   "source": [
    "cartesiano.countByValue()"
   ]
  },
  {
   "cell_type": "markdown",
   "id": "ea4b3b8f",
   "metadata": {},
   "source": [
    "**Novo RDD**"
   ]
  },
  {
   "cell_type": "code",
   "execution_count": null,
   "id": "71588a22",
   "metadata": {},
   "outputs": [],
   "source": [
    "compras = sc.parallelize([(1, 200), (2, 300), (3, 120), (4,250), (5,78)])"
   ]
  },
  {
   "cell_type": "markdown",
   "id": "7916f849",
   "metadata": {},
   "source": [
    "**MÉTODOS**"
   ]
  },
  {
   "cell_type": "markdown",
   "id": "bdcf8bf7",
   "metadata": {},
   "source": [
    "**Ver apenas as chaves**"
   ]
  },
  {
   "cell_type": "code",
   "execution_count": null,
   "id": "4e6571b3",
   "metadata": {},
   "outputs": [],
   "source": [
    "chaves = compras.keys()"
   ]
  },
  {
   "cell_type": "code",
   "execution_count": null,
   "id": "b579eb77",
   "metadata": {},
   "outputs": [],
   "source": [
    "chaves.collect()"
   ]
  },
  {
   "cell_type": "markdown",
   "id": "08ae76cd",
   "metadata": {},
   "source": [
    "**Ver apenas os valores**"
   ]
  },
  {
   "cell_type": "code",
   "execution_count": null,
   "id": "73d83a5f",
   "metadata": {},
   "outputs": [],
   "source": [
    "valores = compras.values()"
   ]
  },
  {
   "cell_type": "code",
   "execution_count": null,
   "id": "f6bb92d5",
   "metadata": {},
   "outputs": [],
   "source": [
    "valores.collect()"
   ]
  },
  {
   "cell_type": "markdown",
   "id": "f2e5a439",
   "metadata": {},
   "source": [
    "**Contando quantos elementos tem cada chave**"
   ]
  },
  {
   "cell_type": "code",
   "execution_count": null,
   "id": "a34e5d97",
   "metadata": {},
   "outputs": [],
   "source": [
    "compras.countByKey()"
   ]
  },
  {
   "cell_type": "markdown",
   "id": "c969b173",
   "metadata": {},
   "source": [
    "**Somando mais um a cada elemento do valor**"
   ]
  },
  {
   "cell_type": "code",
   "execution_count": null,
   "id": "d1fdf16b",
   "metadata": {},
   "outputs": [],
   "source": [
    "soma = compras.mapValues(lambda soma: soma + 1)"
   ]
  },
  {
   "cell_type": "code",
   "execution_count": null,
   "id": "bb392895",
   "metadata": {},
   "outputs": [],
   "source": [
    "soma.collect()"
   ]
  },
  {
   "cell_type": "markdown",
   "id": "921ce638",
   "metadata": {},
   "source": [
    "**Criando um novo RDD**"
   ]
  },
  {
   "cell_type": "code",
   "execution_count": null,
   "id": "3d1aaa1e",
   "metadata": {},
   "outputs": [],
   "source": [
    "debitos = sc.parallelize([(1,20), (2,300)])"
   ]
  },
  {
   "cell_type": "markdown",
   "id": "061ab585",
   "metadata": {},
   "source": [
    "**Join**"
   ]
  },
  {
   "cell_type": "code",
   "execution_count": null,
   "id": "033d07c9",
   "metadata": {},
   "outputs": [],
   "source": [
    "## RDDs compras/debito\n",
    "resultado = compras.join(debitos)"
   ]
  },
  {
   "cell_type": "code",
   "execution_count": null,
   "id": "7e76c3db",
   "metadata": {},
   "outputs": [],
   "source": [
    "resultado.collect()"
   ]
  },
  {
   "cell_type": "markdown",
   "id": "02d2916c",
   "metadata": {},
   "source": [
    "**Mostrar apenas os clientes sem debito**"
   ]
  },
  {
   "cell_type": "code",
   "execution_count": null,
   "id": "eafcacf7",
   "metadata": {},
   "outputs": [],
   "source": [
    "semdebito = compras.subtractByKey(debitos)"
   ]
  },
  {
   "cell_type": "code",
   "execution_count": null,
   "id": "54548110",
   "metadata": {},
   "outputs": [],
   "source": [
    "semdebito.collect()"
   ]
  }
 ],
 "metadata": {
  "kernelspec": {
   "display_name": "Python 3 (ipykernel)",
   "language": "python",
   "name": "python3"
  },
  "language_info": {
   "codemirror_mode": {
    "name": "ipython",
    "version": 3
   },
   "file_extension": ".py",
   "mimetype": "text/x-python",
   "name": "python",
   "nbconvert_exporter": "python",
   "pygments_lexer": "ipython3",
   "version": "3.8.10"
  }
 },
 "nbformat": 4,
 "nbformat_minor": 5
}
