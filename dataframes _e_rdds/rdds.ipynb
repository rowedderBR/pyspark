{
 "cells": [
  {
   "cell_type": "code",
   "execution_count": 23,
   "id": "70886fb6",
   "metadata": {},
   "outputs": [],
   "source": [
    "from pyspark import SparkContext "
   ]
  },
  {
   "cell_type": "markdown",
   "id": "0ab64712",
   "metadata": {},
   "source": [
    "**Criando uma aplicação Spark**"
   ]
  },
  {
   "cell_type": "code",
   "execution_count": 24,
   "id": "d9c5c133",
   "metadata": {},
   "outputs": [],
   "source": [
    "sc = SparkContext.getOrCreate()"
   ]
  },
  {
   "cell_type": "markdown",
   "id": "5e9f4ba7",
   "metadata": {},
   "source": [
    "**Criando um RDD**"
   ]
  },
  {
   "cell_type": "code",
   "execution_count": 25,
   "id": "a96a16c8",
   "metadata": {},
   "outputs": [],
   "source": [
    "numeros = sc.parallelize([1,2,3,4,5,6,7,8,9,10])"
   ]
  },
  {
   "cell_type": "markdown",
   "id": "8df4a64e",
   "metadata": {},
   "source": [
    "**Ver os cinco primeiros elementos**"
   ]
  },
  {
   "cell_type": "code",
   "execution_count": 26,
   "id": "b762a6dd",
   "metadata": {},
   "outputs": [
    {
     "data": {
      "text/plain": [
       "[1, 2, 3, 4, 5]"
      ]
     },
     "execution_count": 26,
     "metadata": {},
     "output_type": "execute_result"
    }
   ],
   "source": [
    "numeros.take(5)"
   ]
  },
  {
   "cell_type": "markdown",
   "id": "01952491",
   "metadata": {},
   "source": [
    "**Ver os maiores elementos**"
   ]
  },
  {
   "cell_type": "code",
   "execution_count": 27,
   "id": "84cf6fd6",
   "metadata": {},
   "outputs": [
    {
     "data": {
      "text/plain": [
       "[10, 9, 8, 7, 6]"
      ]
     },
     "execution_count": 27,
     "metadata": {},
     "output_type": "execute_result"
    }
   ],
   "source": [
    "numeros.top(5)"
   ]
  },
  {
   "cell_type": "markdown",
   "id": "ba9737e7",
   "metadata": {},
   "source": [
    "**Contar a quantidade de elementos**"
   ]
  },
  {
   "cell_type": "code",
   "execution_count": 28,
   "id": "d132d739",
   "metadata": {},
   "outputs": [
    {
     "data": {
      "text/plain": [
       "10"
      ]
     },
     "execution_count": 28,
     "metadata": {},
     "output_type": "execute_result"
    }
   ],
   "source": [
    "numeros.count()"
   ]
  },
  {
   "cell_type": "markdown",
   "id": "691f85f0",
   "metadata": {},
   "source": [
    "**Calcular a média**"
   ]
  },
  {
   "cell_type": "code",
   "execution_count": 29,
   "id": "7fbaf56c",
   "metadata": {},
   "outputs": [
    {
     "data": {
      "text/plain": [
       "5.5"
      ]
     },
     "execution_count": 29,
     "metadata": {},
     "output_type": "execute_result"
    }
   ],
   "source": [
    "numeros.mean()"
   ]
  },
  {
   "cell_type": "markdown",
   "id": "5b24b791",
   "metadata": {},
   "source": [
    "**Somar os elementos**"
   ]
  },
  {
   "cell_type": "code",
   "execution_count": 30,
   "id": "e9701f26",
   "metadata": {},
   "outputs": [
    {
     "data": {
      "text/plain": [
       "55"
      ]
     },
     "execution_count": 30,
     "metadata": {},
     "output_type": "execute_result"
    }
   ],
   "source": [
    "numeros.sum()"
   ]
  },
  {
   "cell_type": "markdown",
   "id": "a1f26547",
   "metadata": {},
   "source": [
    "**Calcular o desvio padrão**"
   ]
  },
  {
   "cell_type": "code",
   "execution_count": 31,
   "id": "e8d36ccf",
   "metadata": {},
   "outputs": [
    {
     "data": {
      "text/plain": [
       "2.8722813232690143"
      ]
     },
     "execution_count": 31,
     "metadata": {},
     "output_type": "execute_result"
    }
   ],
   "source": [
    "numeros.stdev()"
   ]
  },
  {
   "cell_type": "markdown",
   "id": "d0c131bc",
   "metadata": {},
   "source": [
    "**Filtrando dados**"
   ]
  },
  {
   "cell_type": "code",
   "execution_count": 45,
   "id": "b342557c",
   "metadata": {},
   "outputs": [],
   "source": [
    "filtro = numeros.filter(lambda filtro: filtro > 2)"
   ]
  },
  {
   "cell_type": "code",
   "execution_count": 46,
   "id": "a14ba037",
   "metadata": {},
   "outputs": [
    {
     "data": {
      "text/plain": [
       "[3, 4, 5, 6, 7, 8, 9, 10]"
      ]
     },
     "execution_count": 46,
     "metadata": {},
     "output_type": "execute_result"
    }
   ],
   "source": [
    "filtro.collect()"
   ]
  },
  {
   "cell_type": "markdown",
   "id": "8621c2a8",
   "metadata": {},
   "source": [
    "**Amostra**"
   ]
  },
  {
   "cell_type": "code",
   "execution_count": 47,
   "id": "5d25f4a5",
   "metadata": {},
   "outputs": [],
   "source": [
    "amostra = numeros.sample(True, 0.5,1)"
   ]
  },
  {
   "cell_type": "code",
   "execution_count": 48,
   "id": "247a1e63",
   "metadata": {},
   "outputs": [
    {
     "data": {
      "text/plain": [
       "[2, 5, 6, 7, 7, 8, 10]"
      ]
     },
     "execution_count": 48,
     "metadata": {},
     "output_type": "execute_result"
    }
   ],
   "source": [
    "amostra.collect()"
   ]
  },
  {
   "cell_type": "markdown",
   "id": "a4616e57",
   "metadata": {},
   "source": [
    "**Função map**"
   ]
  },
  {
   "cell_type": "code",
   "execution_count": 50,
   "id": "8beb6dbb",
   "metadata": {},
   "outputs": [],
   "source": [
    "# Todos os elementos multiplicados por 2.\n",
    "mapa = numeros.map(lambda mapa: mapa * 2)"
   ]
  },
  {
   "cell_type": "code",
   "execution_count": 51,
   "id": "66743c83",
   "metadata": {},
   "outputs": [
    {
     "data": {
      "text/plain": [
       "[2, 4, 6, 8, 10, 12, 14, 16, 18, 20]"
      ]
     },
     "execution_count": 51,
     "metadata": {},
     "output_type": "execute_result"
    }
   ],
   "source": [
    "mapa.collect()"
   ]
  },
  {
   "cell_type": "markdown",
   "id": "aead8240",
   "metadata": {},
   "source": [
    "**Novo RDD**"
   ]
  },
  {
   "cell_type": "markdown",
   "id": "0bce1747",
   "metadata": {},
   "source": [
    "**União**"
   ]
  },
  {
   "cell_type": "code",
   "execution_count": 54,
   "id": "a15894fa",
   "metadata": {},
   "outputs": [],
   "source": [
    "numeros2 = sc.parallelize([6,7,8,9,10])"
   ]
  },
  {
   "cell_type": "code",
   "execution_count": 55,
   "id": "2a61a337",
   "metadata": {},
   "outputs": [],
   "source": [
    "# Unindo numeros a números2\n",
    "uniao = numeros.union(numeros2)"
   ]
  },
  {
   "cell_type": "code",
   "execution_count": 56,
   "id": "532b950f",
   "metadata": {},
   "outputs": [
    {
     "data": {
      "text/plain": [
       "[6, 7, 8, 9, 10, 6, 7, 8, 9, 10]"
      ]
     },
     "execution_count": 56,
     "metadata": {},
     "output_type": "execute_result"
    }
   ],
   "source": [
    "uniao.collect()"
   ]
  },
  {
   "cell_type": "markdown",
   "id": "34a572ff",
   "metadata": {},
   "source": [
    "**Intersecção**"
   ]
  },
  {
   "cell_type": "code",
   "execution_count": 57,
   "id": "1a23d05d",
   "metadata": {},
   "outputs": [],
   "source": [
    "# Números em comum\n",
    "interseccao = numeros.intersection(numeros2)"
   ]
  },
  {
   "cell_type": "code",
   "execution_count": 58,
   "id": "b65e0e10",
   "metadata": {},
   "outputs": [
    {
     "data": {
      "text/plain": [
       "[8, 9, 10, 6, 7]"
      ]
     },
     "execution_count": 58,
     "metadata": {},
     "output_type": "execute_result"
    }
   ],
   "source": [
    "interseccao.collect()"
   ]
  },
  {
   "cell_type": "markdown",
   "id": "c0779afe",
   "metadata": {},
   "source": [
    "**Valores diferentes**"
   ]
  },
  {
   "cell_type": "code",
   "execution_count": 59,
   "id": "1354edb7",
   "metadata": {},
   "outputs": [],
   "source": [
    "subtrai = numeros.subtract(numeros2)"
   ]
  },
  {
   "cell_type": "code",
   "execution_count": 60,
   "id": "bf625487",
   "metadata": {},
   "outputs": [
    {
     "data": {
      "text/plain": [
       "[]"
      ]
     },
     "execution_count": 60,
     "metadata": {},
     "output_type": "execute_result"
    }
   ],
   "source": [
    "subtrai.collect()"
   ]
  },
  {
   "cell_type": "markdown",
   "id": "07821cf3",
   "metadata": {},
   "source": [
    "**Produto cartesiano**"
   ]
  },
  {
   "cell_type": "code",
   "execution_count": 61,
   "id": "6a345a42",
   "metadata": {},
   "outputs": [],
   "source": [
    "cartesiano = numeros.cartesian(numeros2)"
   ]
  },
  {
   "cell_type": "code",
   "execution_count": 62,
   "id": "fff27f5a",
   "metadata": {},
   "outputs": [
    {
     "data": {
      "text/plain": [
       "[(6, 6),\n",
       " (6, 7),\n",
       " (6, 8),\n",
       " (6, 9),\n",
       " (6, 10),\n",
       " (7, 6),\n",
       " (7, 7),\n",
       " (7, 8),\n",
       " (7, 9),\n",
       " (7, 10),\n",
       " (8, 6),\n",
       " (8, 7),\n",
       " (8, 8),\n",
       " (8, 9),\n",
       " (8, 10),\n",
       " (9, 6),\n",
       " (10, 6),\n",
       " (9, 7),\n",
       " (10, 7),\n",
       " (9, 8),\n",
       " (10, 8),\n",
       " (9, 9),\n",
       " (9, 10),\n",
       " (10, 9),\n",
       " (10, 10)]"
      ]
     },
     "execution_count": 62,
     "metadata": {},
     "output_type": "execute_result"
    }
   ],
   "source": [
    "cartesiano.collect()"
   ]
  },
  {
   "cell_type": "code",
   "execution_count": 63,
   "id": "bfc57a54",
   "metadata": {},
   "outputs": [
    {
     "data": {
      "text/plain": [
       "defaultdict(int,\n",
       "            {(6, 6): 1,\n",
       "             (6, 7): 1,\n",
       "             (6, 8): 1,\n",
       "             (6, 9): 1,\n",
       "             (6, 10): 1,\n",
       "             (7, 6): 1,\n",
       "             (7, 7): 1,\n",
       "             (7, 8): 1,\n",
       "             (7, 9): 1,\n",
       "             (7, 10): 1,\n",
       "             (8, 6): 1,\n",
       "             (8, 7): 1,\n",
       "             (8, 8): 1,\n",
       "             (8, 9): 1,\n",
       "             (8, 10): 1,\n",
       "             (9, 6): 1,\n",
       "             (10, 6): 1,\n",
       "             (9, 7): 1,\n",
       "             (10, 7): 1,\n",
       "             (9, 8): 1,\n",
       "             (10, 8): 1,\n",
       "             (9, 9): 1,\n",
       "             (9, 10): 1,\n",
       "             (10, 9): 1,\n",
       "             (10, 10): 1})"
      ]
     },
     "execution_count": 63,
     "metadata": {},
     "output_type": "execute_result"
    }
   ],
   "source": [
    "cartesiano.countByValue()"
   ]
  },
  {
   "cell_type": "markdown",
   "id": "ea4b3b8f",
   "metadata": {},
   "source": [
    "**Novo RDD**"
   ]
  },
  {
   "cell_type": "code",
   "execution_count": 32,
   "id": "71588a22",
   "metadata": {},
   "outputs": [],
   "source": [
    "compras = sc.parallelize([(1, 200), (2, 300), (3, 120), (4,250), (5,78)])"
   ]
  },
  {
   "cell_type": "markdown",
   "id": "7916f849",
   "metadata": {},
   "source": [
    "**MÉTODOS**"
   ]
  },
  {
   "cell_type": "markdown",
   "id": "bdcf8bf7",
   "metadata": {},
   "source": [
    "**Ver apenas as chaves**"
   ]
  },
  {
   "cell_type": "code",
   "execution_count": 33,
   "id": "4e6571b3",
   "metadata": {},
   "outputs": [],
   "source": [
    "chaves = compras.keys()"
   ]
  },
  {
   "cell_type": "code",
   "execution_count": 34,
   "id": "b579eb77",
   "metadata": {},
   "outputs": [
    {
     "data": {
      "text/plain": [
       "[1, 2, 3, 4, 5]"
      ]
     },
     "execution_count": 34,
     "metadata": {},
     "output_type": "execute_result"
    }
   ],
   "source": [
    "chaves.collect()"
   ]
  },
  {
   "cell_type": "markdown",
   "id": "08ae76cd",
   "metadata": {},
   "source": [
    "**Ver apenas os valores**"
   ]
  },
  {
   "cell_type": "code",
   "execution_count": 35,
   "id": "73d83a5f",
   "metadata": {},
   "outputs": [],
   "source": [
    "valores = compras.values()"
   ]
  },
  {
   "cell_type": "code",
   "execution_count": 36,
   "id": "f6bb92d5",
   "metadata": {},
   "outputs": [
    {
     "data": {
      "text/plain": [
       "[200, 300, 120, 250, 78]"
      ]
     },
     "execution_count": 36,
     "metadata": {},
     "output_type": "execute_result"
    }
   ],
   "source": [
    "valores.collect()"
   ]
  },
  {
   "cell_type": "markdown",
   "id": "f2e5a439",
   "metadata": {},
   "source": [
    "**Contando quantos elementos tem cada chave**"
   ]
  },
  {
   "cell_type": "code",
   "execution_count": 37,
   "id": "a34e5d97",
   "metadata": {},
   "outputs": [
    {
     "data": {
      "text/plain": [
       "defaultdict(int, {1: 1, 2: 1, 3: 1, 4: 1, 5: 1})"
      ]
     },
     "execution_count": 37,
     "metadata": {},
     "output_type": "execute_result"
    }
   ],
   "source": [
    "compras.countByKey()"
   ]
  },
  {
   "cell_type": "markdown",
   "id": "c969b173",
   "metadata": {},
   "source": [
    "**Somando mais um a cada elemento do valor**"
   ]
  },
  {
   "cell_type": "code",
   "execution_count": 38,
   "id": "d1fdf16b",
   "metadata": {},
   "outputs": [],
   "source": [
    "soma = compras.mapValues(lambda soma: soma + 1)"
   ]
  },
  {
   "cell_type": "code",
   "execution_count": 39,
   "id": "bb392895",
   "metadata": {},
   "outputs": [
    {
     "data": {
      "text/plain": [
       "[(1, 201), (2, 301), (3, 121), (4, 251), (5, 79)]"
      ]
     },
     "execution_count": 39,
     "metadata": {},
     "output_type": "execute_result"
    }
   ],
   "source": [
    "soma.collect()"
   ]
  },
  {
   "cell_type": "markdown",
   "id": "921ce638",
   "metadata": {},
   "source": [
    "**Criando um novo RDD**"
   ]
  },
  {
   "cell_type": "code",
   "execution_count": 40,
   "id": "3d1aaa1e",
   "metadata": {},
   "outputs": [],
   "source": [
    "debitos = sc.parallelize([(1,20), (2,300)])"
   ]
  },
  {
   "cell_type": "markdown",
   "id": "061ab585",
   "metadata": {},
   "source": [
    "**Join**"
   ]
  },
  {
   "cell_type": "code",
   "execution_count": 41,
   "id": "033d07c9",
   "metadata": {},
   "outputs": [],
   "source": [
    "## RDDs compras/debito\n",
    "resultado = compras.join(debitos)"
   ]
  },
  {
   "cell_type": "code",
   "execution_count": 42,
   "id": "7e76c3db",
   "metadata": {},
   "outputs": [
    {
     "data": {
      "text/plain": [
       "[(1, (200, 20)), (2, (300, 300))]"
      ]
     },
     "execution_count": 42,
     "metadata": {},
     "output_type": "execute_result"
    }
   ],
   "source": [
    "resultado.collect()"
   ]
  },
  {
   "cell_type": "markdown",
   "id": "02d2916c",
   "metadata": {},
   "source": [
    "**Mostrar apenas os clientes sem debito**"
   ]
  },
  {
   "cell_type": "code",
   "execution_count": 43,
   "id": "eafcacf7",
   "metadata": {},
   "outputs": [],
   "source": [
    "semdebito = compras.subtractByKey(debitos)"
   ]
  },
  {
   "cell_type": "code",
   "execution_count": 44,
   "id": "54548110",
   "metadata": {},
   "outputs": [
    {
     "data": {
      "text/plain": [
       "[(3, 120), (4, 250), (5, 78)]"
      ]
     },
     "execution_count": 44,
     "metadata": {},
     "output_type": "execute_result"
    }
   ],
   "source": [
    "semdebito.collect()"
   ]
  }
 ],
 "metadata": {
  "kernelspec": {
   "display_name": "Python 3 (ipykernel)",
   "language": "python",
   "name": "python3"
  },
  "language_info": {
   "codemirror_mode": {
    "name": "ipython",
    "version": 3
   },
   "file_extension": ".py",
   "mimetype": "text/x-python",
   "name": "python",
   "nbconvert_exporter": "python",
   "pygments_lexer": "ipython3",
   "version": "3.8.10"
  }
 },
 "nbformat": 4,
 "nbformat_minor": 5
}
