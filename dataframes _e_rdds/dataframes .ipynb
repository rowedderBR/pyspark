{
 "cells": [
  {
   "cell_type": "code",
   "execution_count": null,
   "id": "af2f9797",
   "metadata": {},
   "outputs": [],
   "source": [
    "from pyspark.sql import SparkSession"
   ]
  },
  {
   "cell_type": "markdown",
   "id": "3bd4e766",
   "metadata": {},
   "source": [
    "**Criando uma aplicação Spark**"
   ]
  },
  {
   "cell_type": "code",
   "execution_count": null,
   "id": "341eb660",
   "metadata": {},
   "outputs": [],
   "source": [
    "spark = SparkSession.builder.master(\"local\").appName(\"SparkByExamples.com\").getOrCreate()"
   ]
  },
  {
   "cell_type": "markdown",
   "id": "964da083",
   "metadata": {},
   "source": [
    "**Criando um dataframe sem definir um schema**"
   ]
  },
  {
   "cell_type": "code",
   "execution_count": null,
   "id": "278b3652",
   "metadata": {},
   "outputs": [],
   "source": [
    "df1 = spark.createDataFrame([(\"Pedro\", 10),(\"Maria\", 20),(\"José\", 40)])"
   ]
  },
  {
   "cell_type": "code",
   "execution_count": null,
   "id": "4817cb76",
   "metadata": {},
   "outputs": [],
   "source": [
    "df1.show()"
   ]
  },
  {
   "cell_type": "markdown",
   "id": "b70dbda7",
   "metadata": {},
   "source": [
    "**Criando um dataframe com schema**"
   ]
  },
  {
   "cell_type": "code",
   "execution_count": null,
   "id": "b521c921",
   "metadata": {},
   "outputs": [],
   "source": [
    "schema = \"id INT, nome STRING\"\n",
    "dados = [[1, \"Pedro\"], [2, \"Maria\"]]\n",
    "df2 = spark.createDataFrame(dados, schema)"
   ]
  },
  {
   "cell_type": "code",
   "execution_count": null,
   "id": "f0f4a0e8",
   "metadata": {},
   "outputs": [],
   "source": [
    "df2.show()"
   ]
  },
  {
   "cell_type": "markdown",
   "id": "618beb95",
   "metadata": {},
   "source": [
    "**Agregando dados**"
   ]
  },
  {
   "cell_type": "code",
   "execution_count": null,
   "id": "407f47df",
   "metadata": {},
   "outputs": [],
   "source": [
    "from pyspark.sql.functions import sum  #função de soma (agregação)"
   ]
  },
  {
   "cell_type": "code",
   "execution_count": null,
   "id": "450e6df9",
   "metadata": {},
   "outputs": [],
   "source": [
    "schema2 = \"produtos STRING, vendas INT\"\n",
    "vendas = [[\"Caneta\", 10], [\"Lápis\", 15], [\"Caneta\", 40]]\n",
    "df3 = spark.createDataFrame(vendas, schema2)"
   ]
  },
  {
   "cell_type": "code",
   "execution_count": null,
   "id": "0e234a5f",
   "metadata": {},
   "outputs": [],
   "source": [
    "df3.show()"
   ]
  },
  {
   "cell_type": "code",
   "execution_count": null,
   "id": "4bc8282f",
   "metadata": {},
   "outputs": [],
   "source": [
    "# Colocando o show na mesma linha do script de agregação.\n",
    "agrupado = df3.groupBy(\"produtos\").agg(sum(\"vendas\")).show()"
   ]
  },
  {
   "cell_type": "markdown",
   "id": "3bd62b4d",
   "metadata": {},
   "source": [
    "**Visualizando apenas as colunas que quero**"
   ]
  },
  {
   "cell_type": "code",
   "execution_count": null,
   "id": "8cfa8e9b",
   "metadata": {},
   "outputs": [],
   "source": [
    "#O dataframe inteiro\n",
    "df3.select(\"produtos\",\"vendas\").show()"
   ]
  },
  {
   "cell_type": "code",
   "execution_count": null,
   "id": "b4e03f4c",
   "metadata": {},
   "outputs": [],
   "source": [
    "# Apenas a coluna vendas\n",
    "df3.select(\"vendas\").show()"
   ]
  },
  {
   "cell_type": "code",
   "execution_count": null,
   "id": "ccf9ec8e",
   "metadata": {},
   "outputs": [],
   "source": [
    "# Invertendo a ordem \n",
    "df3.select(\"vendas\",\"produtos\").show()"
   ]
  },
  {
   "cell_type": "markdown",
   "id": "6c42354b",
   "metadata": {},
   "source": [
    "**Criando uma expressão (qualquer cálculo matemático)**"
   ]
  },
  {
   "cell_type": "code",
   "execution_count": null,
   "id": "1a1122dd",
   "metadata": {},
   "outputs": [],
   "source": [
    "from pyspark.sql.functions import expr"
   ]
  },
  {
   "cell_type": "code",
   "execution_count": null,
   "id": "3dc6ec9e",
   "metadata": {},
   "outputs": [],
   "source": [
    "# O quantidade de vendas vezes 0.2 \n",
    "df3.select(\"produtos\", \"vendas\", expr(\"vendas * 0.2\")).show()"
   ]
  },
  {
   "cell_type": "markdown",
   "id": "6ef41a2c",
   "metadata": {},
   "source": [
    "**Visualizando o schema do dataframe**"
   ]
  },
  {
   "cell_type": "code",
   "execution_count": null,
   "id": "1df98fdf",
   "metadata": {},
   "outputs": [],
   "source": [
    "df3.schema"
   ]
  },
  {
   "cell_type": "markdown",
   "id": "2ff778a9",
   "metadata": {},
   "source": [
    "**Visualizando as colunas do dataframe**"
   ]
  },
  {
   "cell_type": "code",
   "execution_count": null,
   "id": "6fe1a3da",
   "metadata": {},
   "outputs": [],
   "source": [
    "df3.columns"
   ]
  },
  {
   "cell_type": "markdown",
   "id": "2e43578a",
   "metadata": {},
   "source": [
    "**Importando um arquivo CSV e definindo um schema para esse arquivo**"
   ]
  },
  {
   "cell_type": "code",
   "execution_count": null,
   "id": "ff1c6a2e",
   "metadata": {},
   "outputs": [],
   "source": [
    "from pyspark.sql.types import *"
   ]
  },
  {
   "cell_type": "code",
   "execution_count": null,
   "id": "dd07ad27",
   "metadata": {},
   "outputs": [],
   "source": [
    "arqschema = \"id INT, nome STRING, status STRING, cidade STRING, vendas INT, data STRING\"\n",
    "despachantes = spark.read.csv(\"/home/rowedder/download/despachantes.csv\", header=False, schema = arqschema)"
   ]
  },
  {
   "cell_type": "code",
   "execution_count": null,
   "id": "32f173cb",
   "metadata": {},
   "outputs": [],
   "source": [
    "despachantes.show()"
   ]
  },
  {
   "cell_type": "code",
   "execution_count": null,
   "id": "3f6dd330",
   "metadata": {},
   "outputs": [],
   "source": [
    "# Abrindo o CSV com load (um método genérico) no lugar do spark.read.csv\n",
    "# Colocando o sep=\",\" --> Para conseguir abrir o formato que o arquivo foi criado (, ou ;)\n",
    "# inferSchema=\"True\" --> Ele infere o schema automaticamente.\n",
    "desp_autoschema = spark.read.load(\"/home/rowedder/download/despachantes.csv\", header=False, format=\"csv\", sep=\",\", inferSchema=\"True\")"
   ]
  },
  {
   "cell_type": "code",
   "execution_count": null,
   "id": "3bb4af86",
   "metadata": {},
   "outputs": [],
   "source": [
    "desp_autoschema.show()"
   ]
  },
  {
   "cell_type": "markdown",
   "id": "5b7ccd25",
   "metadata": {},
   "source": [
    "**Comparando os tipos de dados dos dataframes despachantes e desp_autoschema da coluna data**"
   ]
  },
  {
   "cell_type": "code",
   "execution_count": null,
   "id": "8c301320",
   "metadata": {},
   "outputs": [],
   "source": [
    "despachantes.schema"
   ]
  },
  {
   "cell_type": "code",
   "execution_count": null,
   "id": "66ac690c",
   "metadata": {},
   "outputs": [],
   "source": [
    "desp_autoschema.schema"
   ]
  },
  {
   "cell_type": "markdown",
   "id": "c3c9e7de",
   "metadata": {},
   "source": [
    "**Filtrando dados com WHERE**"
   ]
  },
  {
   "cell_type": "code",
   "execution_count": null,
   "id": "65096783",
   "metadata": {},
   "outputs": [],
   "source": [
    "from pyspark.sql import functions as func"
   ]
  },
  {
   "cell_type": "code",
   "execution_count": null,
   "id": "5730e5de",
   "metadata": {},
   "outputs": [],
   "source": [
    "# Filtrando vendas maior que 20.\n",
    "despachantes.select(\"id\",\"nome\",\"vendas\").where(func.col(\"vendas\") > 20).show()"
   ]
  },
  {
   "cell_type": "code",
   "execution_count": null,
   "id": "679cfe77",
   "metadata": {},
   "outputs": [],
   "source": [
    "# Filtrando vendas maiores que 20 e menores do que 40.\n",
    "despachantes.select(\"id\",\"nome\",\"vendas\").where((func.col(\"vendas\") > 20)&(func.col(\"vendas\")<40)).show()"
   ]
  },
  {
   "cell_type": "markdown",
   "id": "91dfd5d0",
   "metadata": {},
   "source": [
    "**Renomeando colunas de um dataframe**"
   ]
  },
  {
   "cell_type": "code",
   "execution_count": null,
   "id": "ebb8f431",
   "metadata": {},
   "outputs": [],
   "source": [
    "novodf = despachantes.withColumnRenamed(\"nome\", \"nomes\")\n",
    "novodf.columns"
   ]
  },
  {
   "cell_type": "code",
   "execution_count": null,
   "id": "ac92a32d",
   "metadata": {},
   "outputs": [],
   "source": [
    "novodf.show()"
   ]
  },
  {
   "cell_type": "markdown",
   "id": "cdd3dfbb",
   "metadata": {},
   "source": [
    "**Alterando o tipo de dado da coluna**"
   ]
  },
  {
   "cell_type": "code",
   "execution_count": null,
   "id": "e1e9a518",
   "metadata": {},
   "outputs": [],
   "source": [
    "from pyspark.sql.functions import *"
   ]
  },
  {
   "cell_type": "code",
   "execution_count": null,
   "id": "efb47450",
   "metadata": {},
   "outputs": [],
   "source": [
    "#Cria-se mais uma coluna porém podemos deletá-la depois.\n",
    "despachantes2 = despachantes.withColumn(\"data2\", to_timestamp(func.col(\"data\"),\"yyyy-mm-dd\"))"
   ]
  },
  {
   "cell_type": "code",
   "execution_count": null,
   "id": "750d3879",
   "metadata": {},
   "outputs": [],
   "source": [
    "despachantes2.printSchema()"
   ]
  },
  {
   "cell_type": "markdown",
   "id": "9a0f7d58",
   "metadata": {},
   "source": [
    "**Filtrando apenas o ano da data completa**"
   ]
  },
  {
   "cell_type": "code",
   "execution_count": null,
   "id": "ca4a31d0",
   "metadata": {},
   "outputs": [],
   "source": [
    "despachantes.select(year(\"data\")).show()"
   ]
  },
  {
   "cell_type": "markdown",
   "id": "f8cbbc42",
   "metadata": {},
   "source": [
    "**Filtrando as datas que aparecem apenas uma vez**"
   ]
  },
  {
   "cell_type": "code",
   "execution_count": null,
   "id": "58e69f9a",
   "metadata": {},
   "outputs": [],
   "source": [
    "despachantes.select(year(\"data\")).distinct().show()"
   ]
  },
  {
   "cell_type": "markdown",
   "id": "17b676aa",
   "metadata": {},
   "source": [
    "**Ordenando pelo nome e data**"
   ]
  },
  {
   "cell_type": "code",
   "execution_count": null,
   "id": "5d4229f3",
   "metadata": {},
   "outputs": [],
   "source": [
    "despachantes2.select(\"nome\", year(\"data\")).orderBy(\"nome\").show()"
   ]
  },
  {
   "cell_type": "markdown",
   "id": "b9ad24f6",
   "metadata": {},
   "source": [
    "**Contando a quantidade de registros por data**"
   ]
  },
  {
   "cell_type": "code",
   "execution_count": null,
   "id": "851a8993",
   "metadata": {},
   "outputs": [],
   "source": [
    "despachantes2.select(\"data\").groupBy(year(\"data\")).count().show()"
   ]
  },
  {
   "cell_type": "markdown",
   "id": "7c36d1ad",
   "metadata": {},
   "source": [
    "**Somar a quantidade de vendas**"
   ]
  },
  {
   "cell_type": "code",
   "execution_count": null,
   "id": "aa7fcf2d",
   "metadata": {},
   "outputs": [],
   "source": [
    "despachantes2.select(func.sum(\"vendas\")).show()"
   ]
  },
  {
   "cell_type": "markdown",
   "id": "84f29993",
   "metadata": {},
   "source": [
    "**Principais ações e transformações em dataframes**"
   ]
  },
  {
   "cell_type": "markdown",
   "id": "cf7534c5",
   "metadata": {},
   "source": [
    "**Forma tabular**"
   ]
  },
  {
   "cell_type": "code",
   "execution_count": null,
   "id": "652412e7",
   "metadata": {},
   "outputs": [],
   "source": [
    "despachantes.show()"
   ]
  },
  {
   "cell_type": "markdown",
   "id": "2c36738a",
   "metadata": {},
   "source": [
    "**Forma de lista (take)** "
   ]
  },
  {
   "cell_type": "code",
   "execution_count": null,
   "id": "6d048d79",
   "metadata": {},
   "outputs": [],
   "source": [
    "despachantes.take(2)"
   ]
  },
  {
   "cell_type": "markdown",
   "id": "814555e5",
   "metadata": {},
   "source": [
    "**Collect**"
   ]
  },
  {
   "cell_type": "code",
   "execution_count": null,
   "id": "da03a03a",
   "metadata": {},
   "outputs": [],
   "source": [
    "#Trás todos os dados na forma duma lista. Ação herdada dos RDDs.\n",
    "despachantes.collect()"
   ]
  },
  {
   "cell_type": "markdown",
   "id": "cdb2b7c0",
   "metadata": {},
   "source": [
    "**Count**"
   ]
  },
  {
   "cell_type": "code",
   "execution_count": null,
   "id": "826936aa",
   "metadata": {},
   "outputs": [],
   "source": [
    "#Trás os numeros de linhas (row) do dataframe.\n",
    "despachantes.count()"
   ]
  },
  {
   "cell_type": "markdown",
   "id": "e57d28d9",
   "metadata": {},
   "source": [
    "**orderBy**"
   ]
  },
  {
   "cell_type": "code",
   "execution_count": null,
   "id": "6f5a7a59",
   "metadata": {},
   "outputs": [],
   "source": [
    "# Por padrão ordena do menor para o maior (crescente)\n",
    "despachantes.orderBy(\"vendas\").show()"
   ]
  },
  {
   "cell_type": "code",
   "execution_count": null,
   "id": "e914143e",
   "metadata": {},
   "outputs": [],
   "source": [
    "# Decrescente\n",
    "despachantes.orderBy(func.col(\"vendas\").desc()).show()"
   ]
  },
  {
   "cell_type": "code",
   "execution_count": null,
   "id": "a12c4471",
   "metadata": {},
   "outputs": [],
   "source": [
    "# Ordenando a coluna cidade e a coluna vendas de forma decrescente.\n",
    "despachantes.orderBy(func.col(\"cidade\").desc(), func.col(\"vendas\").desc()).show()"
   ]
  },
  {
   "cell_type": "markdown",
   "id": "f018475d",
   "metadata": {},
   "source": [
    "**Total de vendas por cidade**"
   ]
  },
  {
   "cell_type": "code",
   "execution_count": null,
   "id": "c1b1f979",
   "metadata": {},
   "outputs": [],
   "source": [
    "despachantes.groupBy(\"cidade\").agg(sum(\"vendas\")).show()"
   ]
  },
  {
   "cell_type": "markdown",
   "id": "c3b3c472",
   "metadata": {},
   "source": [
    "**Agregando as vendas por cidade e ordenando do maior para o menor**"
   ]
  },
  {
   "cell_type": "code",
   "execution_count": null,
   "id": "2abbeef7",
   "metadata": {},
   "outputs": [],
   "source": [
    "# Agreguei as vendas por cidade e ordenei do maior para o menor.\n",
    "despachantes.groupBy(\"cidade\").agg(sum(\"vendas\")).orderBy(func.col(\"sum(vendas)\").desc()).show()"
   ]
  },
  {
   "cell_type": "markdown",
   "id": "00ffb769",
   "metadata": {},
   "source": [
    "**Filter**"
   ]
  },
  {
   "cell_type": "code",
   "execution_count": null,
   "id": "57c31769",
   "metadata": {},
   "outputs": [],
   "source": [
    "despachantes.show()"
   ]
  },
  {
   "cell_type": "code",
   "execution_count": null,
   "id": "487d48be",
   "metadata": {},
   "outputs": [],
   "source": [
    "despachantes.filter(func.col(\"nome\") == \"Deolinda Vilela\").show()"
   ]
  }
 ],
 "metadata": {
  "kernelspec": {
   "display_name": "Python 3 (ipykernel)",
   "language": "python",
   "name": "python3"
  },
  "language_info": {
   "codemirror_mode": {
    "name": "ipython",
    "version": 3
   },
   "file_extension": ".py",
   "mimetype": "text/x-python",
   "name": "python",
   "nbconvert_exporter": "python",
   "pygments_lexer": "ipython3",
   "version": "3.8.10"
  }
 },
 "nbformat": 4,
 "nbformat_minor": 5
}
