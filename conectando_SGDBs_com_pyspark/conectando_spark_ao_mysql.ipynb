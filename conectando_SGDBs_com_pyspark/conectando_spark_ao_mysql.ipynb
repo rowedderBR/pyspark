{
 "cells": [
  {
   "cell_type": "code",
   "execution_count": null,
   "id": "dc3447dd",
   "metadata": {},
   "outputs": [],
   "source": [
    "import pyspark\n",
    "from pyspark.sql import SparkSession\n",
    "from pyspark.sql.types import *"
   ]
  },
  {
   "cell_type": "markdown",
   "id": "ef75e390",
   "metadata": {},
   "source": [
    "**Criando uma aplicaçao Spark**"
   ]
  },
  {
   "cell_type": "code",
   "execution_count": null,
   "id": "27e58bf1",
   "metadata": {},
   "outputs": [],
   "source": [
    "spark = SparkSession.builder.master(\"local\").appName(\"Python Spark SQL basic example\").config(\"spark.jars\", \"/home/rowedder/Downloads/mysql-connector-java-8.0.29.jar\").getOrCreate()"
   ]
  },
  {
   "cell_type": "markdown",
   "id": "00fbd477",
   "metadata": {},
   "source": [
    "**Criando conexão com o banco de dados**"
   ]
  },
  {
   "cell_type": "code",
   "execution_count": null,
   "id": "1b9023ba",
   "metadata": {},
   "outputs": [],
   "source": [
    "tb_categorias = spark.read.format(\"jdbc\").option(\"url\", \"jdbc:mysql://localhost:3306/agregacao\").option(\"driver\", \"com.mysql.jdbc.Driver\").option(\"dbtable\", \"categorias\").option(\"user\", \"root\").option(\"password\", \"123\").load()"
   ]
  },
  {
   "cell_type": "markdown",
   "id": "9457bd6e",
   "metadata": {},
   "source": [
    "**Query com a API dataframe Spark** "
   ]
  },
  {
   "cell_type": "code",
   "execution_count": null,
   "id": "ddc7ba8c",
   "metadata": {},
   "outputs": [],
   "source": [
    "tb_categorias.select(\"nome\").show()"
   ]
  },
  {
   "cell_type": "markdown",
   "id": "f5bb17af",
   "metadata": {},
   "source": [
    "**Convertendo o dataframe em uma tabela**"
   ]
  },
  {
   "cell_type": "code",
   "execution_count": null,
   "id": "a1815b53",
   "metadata": {},
   "outputs": [],
   "source": [
    "tb_categorias.write.saveAsTable(\"categorias\")"
   ]
  },
  {
   "cell_type": "markdown",
   "id": "de777464",
   "metadata": {},
   "source": [
    "**Query em linguagem SQL**"
   ]
  },
  {
   "cell_type": "code",
   "execution_count": null,
   "id": "7e5de160",
   "metadata": {},
   "outputs": [],
   "source": [
    "spark.sql(\"select * from categorias\").show()"
   ]
  }
 ],
 "metadata": {
  "kernelspec": {
   "display_name": "Python 3 (ipykernel)",
   "language": "python",
   "name": "python3"
  },
  "language_info": {
   "codemirror_mode": {
    "name": "ipython",
    "version": 3
   },
   "file_extension": ".py",
   "mimetype": "text/x-python",
   "name": "python",
   "nbconvert_exporter": "python",
   "pygments_lexer": "ipython3",
   "version": "3.8.10"
  }
 },
 "nbformat": 4,
 "nbformat_minor": 5
}
