{
 "cells": [
  {
   "cell_type": "code",
   "execution_count": 1,
   "id": "8c26994a",
   "metadata": {},
   "outputs": [],
   "source": [
    "from pyspark.sql import SparkSession"
   ]
  },
  {
   "cell_type": "markdown",
   "id": "524632d3",
   "metadata": {},
   "source": [
    "**Criando uma aplicação Spark**"
   ]
  },
  {
   "cell_type": "code",
   "execution_count": 2,
   "id": "005c3b81",
   "metadata": {},
   "outputs": [
    {
     "name": "stderr",
     "output_type": "stream",
     "text": [
      "22/05/23 21:54:44 WARN Utils: Your hostname, rowedder-HP-240-G4-Notebook-PC resolves to a loopback address: 127.0.1.1; using 172.20.0.1 instead (on interface br-6c5db4bf7af1)\n",
      "22/05/23 21:54:44 WARN Utils: Set SPARK_LOCAL_IP if you need to bind to another address\n",
      "WARNING: An illegal reflective access operation has occurred\n",
      "WARNING: Illegal reflective access by org.apache.spark.unsafe.Platform (file:/opt/spark/jars/spark-unsafe_2.12-3.2.1.jar) to constructor java.nio.DirectByteBuffer(long,int)\n",
      "WARNING: Please consider reporting this to the maintainers of org.apache.spark.unsafe.Platform\n",
      "WARNING: Use --illegal-access=warn to enable warnings of further illegal reflective access operations\n",
      "WARNING: All illegal access operations will be denied in a future release\n",
      "Using Spark's default log4j profile: org/apache/spark/log4j-defaults.properties\n",
      "Setting default log level to \"WARN\".\n",
      "To adjust logging level use sc.setLogLevel(newLevel). For SparkR, use setLogLevel(newLevel).\n",
      "22/05/23 21:54:46 WARN NativeCodeLoader: Unable to load native-hadoop library for your platform... using builtin-java classes where applicable\n"
     ]
    }
   ],
   "source": [
    "spark = SparkSession.builder.master(\"local\").appName(\"Streaming\").getOrCreate()"
   ]
  },
  {
   "cell_type": "markdown",
   "id": "d3c251b9",
   "metadata": {},
   "source": [
    "**Criando um Schema**"
   ]
  },
  {
   "cell_type": "code",
   "execution_count": 3,
   "id": "61a0ea20",
   "metadata": {},
   "outputs": [],
   "source": [
    "jsonschema = \"nome STRING, postagem STRING, data INT\""
   ]
  },
  {
   "cell_type": "markdown",
   "id": "09bf6b8b",
   "metadata": {},
   "source": [
    "**Criando o diretório de testes**"
   ]
  },
  {
   "cell_type": "code",
   "execution_count": 4,
   "id": "ed44448e",
   "metadata": {},
   "outputs": [],
   "source": [
    "# É neste diretório que colo os arquivos json para testar. Preciso criá-lo manualmente.\n",
    "df = spark.readStream.json(\"/home/rowedder/testestream/\", schema=jsonschema)"
   ]
  },
  {
   "cell_type": "markdown",
   "id": "668ca2f9",
   "metadata": {},
   "source": [
    "**Criando o diretório de monitoramento da aplicação**"
   ]
  },
  {
   "cell_type": "code",
   "execution_count": 5,
   "id": "81d1768f",
   "metadata": {},
   "outputs": [],
   "source": [
    "# Não preciso criar manualmente esse diretório\n",
    "diretorio = \"/home/rowedder/temp/\""
   ]
  },
  {
   "cell_type": "code",
   "execution_count": 6,
   "id": "084fd723",
   "metadata": {},
   "outputs": [
    {
     "name": "stderr",
     "output_type": "stream",
     "text": [
      "22/05/23 21:55:01 WARN ResolveWriteToStream: spark.sql.adaptive.enabled is not supported in streaming DataFrames/Datasets and will be disabled.\n"
     ]
    }
   ],
   "source": [
    "stcal = df.writeStream.format(\"console\").outputMode(\"append\").trigger(processingTime=\"5 second\").option(\"checkpointlocation\", diretorio).start()"
   ]
  },
  {
   "cell_type": "code",
   "execution_count": null,
   "id": "e83bba93",
   "metadata": {},
   "outputs": [
    {
     "name": "stderr",
     "output_type": "stream",
     "text": [
      "                                                                                \r"
     ]
    },
    {
     "name": "stdout",
     "output_type": "stream",
     "text": [
      "-------------------------------------------\n",
      "Batch: 0\n",
      "-------------------------------------------\n",
      "+----------------+--------------------+-----+\n",
      "|            nome|            postagem| data|\n",
      "+----------------+--------------------+-----+\n",
      "|  Abraão Salomón|Gostei do atendim...|43612|\n",
      "|    Abílio Serpa|      Produtos caros|43566|\n",
      "| Adérito Puentes|        Tem de tudo!|43591|\n",
      "|  Afonso Silvera|     òtima qualidade|43586|\n",
      "|  Albino Almeida|recomendo, vou vo...|43532|\n",
      "|  Albino Bulhões|      Produtos caros|43612|\n",
      "|    Aldo Quintão|Não encontrei o q...|43630|\n",
      "|     Alice Moita|      Produtos caros|43507|\n",
      "|   Alice Morgado|Demorou para me a...|43624|\n",
      "|   Alvito Gracia|     Muita variedade|43606|\n",
      "|Amadeu Fortunato|Gostei do atendim...|43608|\n",
      "|  Amália Barreto|   Otima localização|43633|\n",
      "|   Ana Marroquim|      Produtos caros|43524|\n",
      "| Anabela Azeredo|Gostei do atendim...|43528|\n",
      "+----------------+--------------------+-----+\n",
      "\n"
     ]
    }
   ],
   "source": [
    "# Ficará rodando até eu encerrar\n",
    "stcal.awaitTermination()"
   ]
  }
 ],
 "metadata": {
  "kernelspec": {
   "display_name": "Python 3 (ipykernel)",
   "language": "python",
   "name": "python3"
  },
  "language_info": {
   "codemirror_mode": {
    "name": "ipython",
    "version": 3
   },
   "file_extension": ".py",
   "mimetype": "text/x-python",
   "name": "python",
   "nbconvert_exporter": "python",
   "pygments_lexer": "ipython3",
   "version": "3.8.10"
  }
 },
 "nbformat": 4,
 "nbformat_minor": 5
}
