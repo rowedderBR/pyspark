{
 "cells": [
  {
   "cell_type": "code",
   "execution_count": null,
   "id": "8c26994a",
   "metadata": {},
   "outputs": [],
   "source": [
    "from pyspark.sql import SparkSession"
   ]
  },
  {
   "cell_type": "markdown",
   "id": "524632d3",
   "metadata": {},
   "source": [
    "**Criando uma aplicação Spark**"
   ]
  },
  {
   "cell_type": "code",
   "execution_count": null,
   "id": "005c3b81",
   "metadata": {},
   "outputs": [],
   "source": [
    "spark = SparkSession.builder.master(\"local\").appName(\"Streaming\").getOrCreate()"
   ]
  },
  {
   "cell_type": "markdown",
   "id": "d3c251b9",
   "metadata": {},
   "source": [
    "**Criando um Schema**"
   ]
  },
  {
   "cell_type": "code",
   "execution_count": null,
   "id": "61a0ea20",
   "metadata": {},
   "outputs": [],
   "source": [
    "jsonschema = \"nome STRING, postagem STRING, data INT\""
   ]
  },
  {
   "cell_type": "markdown",
   "id": "09bf6b8b",
   "metadata": {},
   "source": [
    "**Criando o diretório de testes**"
   ]
  },
  {
   "cell_type": "code",
   "execution_count": null,
   "id": "ed44448e",
   "metadata": {},
   "outputs": [],
   "source": [
    "# É neste diretório que colo os arquivos json para testar. Preciso criá-lo manualmente.\n",
    "df = spark.readStream.json(\"/home/rowedder/testestream/\", schema=jsonschema)"
   ]
  },
  {
   "cell_type": "markdown",
   "id": "668ca2f9",
   "metadata": {},
   "source": [
    "**Criando o diretório de monitoramento da aplicação**"
   ]
  },
  {
   "cell_type": "code",
   "execution_count": null,
   "id": "81d1768f",
   "metadata": {},
   "outputs": [],
   "source": [
    "# Não preciso criar manualmente esse diretório\n",
    "diretorio = \"/home/rowedder/temp/\""
   ]
  },
  {
   "cell_type": "code",
   "execution_count": null,
   "id": "084fd723",
   "metadata": {},
   "outputs": [],
   "source": [
    "stcal = df.writeStream.format(\"console\").outputMode(\"append\").trigger(processingTime=\"5 second\").option(\"checkpointlocation\", diretorio).start()"
   ]
  },
  {
   "cell_type": "code",
   "execution_count": null,
   "id": "e83bba93",
   "metadata": {},
   "outputs": [],
   "source": [
    "# Ficará rodando até eu encerrar\n",
    "stcal.awaitTermination()"
   ]
  }
 ],
 "metadata": {
  "kernelspec": {
   "display_name": "Python 3 (ipykernel)",
   "language": "python",
   "name": "python3"
  },
  "language_info": {
   "codemirror_mode": {
    "name": "ipython",
    "version": 3
   },
   "file_extension": ".py",
   "mimetype": "text/x-python",
   "name": "python",
   "nbconvert_exporter": "python",
   "pygments_lexer": "ipython3",
   "version": "3.8.10"
  }
 },
 "nbformat": 4,
 "nbformat_minor": 5
}
